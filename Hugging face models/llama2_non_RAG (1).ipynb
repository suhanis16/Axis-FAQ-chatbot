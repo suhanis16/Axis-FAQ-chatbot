{
  "cells": [
    {
      "cell_type": "code",
      "source": [
        "from google.colab import drive\n",
        "drive.mount('/content/drive')"
      ],
      "metadata": {
        "colab": {
          "base_uri": "https://localhost:8080/"
        },
        "id": "JscVuCylEK0F",
        "outputId": "b8e105fc-095b-4566-b366-7e3c830e4876"
      },
      "execution_count": 1,
      "outputs": [
        {
          "output_type": "stream",
          "name": "stdout",
          "text": [
            "Mounted at /content/drive\n"
          ]
        }
      ]
    },
    {
      "cell_type": "code",
      "source": [
        "!pip install langchain langchain-community ctransformers"
      ],
      "metadata": {
        "colab": {
          "base_uri": "https://localhost:8080/"
        },
        "id": "mi74CqftEzto",
        "outputId": "b1f4513c-2460-4033-d947-0a5886f34dd2"
      },
      "execution_count": 2,
      "outputs": [
        {
          "output_type": "stream",
          "name": "stdout",
          "text": [
            "Collecting langchain\n",
            "  Downloading langchain-0.2.6-py3-none-any.whl (975 kB)\n",
            "\u001b[2K     \u001b[90m━━━━━━━━━━━━━━━━━━━━━━━━━━━━━━━━━━━━━━━━\u001b[0m \u001b[32m975.5/975.5 kB\u001b[0m \u001b[31m9.7 MB/s\u001b[0m eta \u001b[36m0:00:00\u001b[0m\n",
            "\u001b[?25hCollecting langchain-community\n",
            "  Downloading langchain_community-0.2.6-py3-none-any.whl (2.2 MB)\n",
            "\u001b[2K     \u001b[90m━━━━━━━━━━━━━━━━━━━━━━━━━━━━━━━━━━━━━━━━\u001b[0m \u001b[32m2.2/2.2 MB\u001b[0m \u001b[31m19.4 MB/s\u001b[0m eta \u001b[36m0:00:00\u001b[0m\n",
            "\u001b[?25hCollecting ctransformers\n",
            "  Downloading ctransformers-0.2.27-py3-none-any.whl (9.9 MB)\n",
            "\u001b[2K     \u001b[90m━━━━━━━━━━━━━━━━━━━━━━━━━━━━━━━━━━━━━━━━\u001b[0m \u001b[32m9.9/9.9 MB\u001b[0m \u001b[31m45.1 MB/s\u001b[0m eta \u001b[36m0:00:00\u001b[0m\n",
            "\u001b[?25hRequirement already satisfied: PyYAML>=5.3 in /usr/local/lib/python3.10/dist-packages (from langchain) (6.0.1)\n",
            "Requirement already satisfied: SQLAlchemy<3,>=1.4 in /usr/local/lib/python3.10/dist-packages (from langchain) (2.0.31)\n",
            "Requirement already satisfied: aiohttp<4.0.0,>=3.8.3 in /usr/local/lib/python3.10/dist-packages (from langchain) (3.9.5)\n",
            "Requirement already satisfied: async-timeout<5.0.0,>=4.0.0 in /usr/local/lib/python3.10/dist-packages (from langchain) (4.0.3)\n",
            "Collecting langchain-core<0.3.0,>=0.2.10 (from langchain)\n",
            "  Downloading langchain_core-0.2.10-py3-none-any.whl (332 kB)\n",
            "\u001b[2K     \u001b[90m━━━━━━━━━━━━━━━━━━━━━━━━━━━━━━━━━━━━━━━━\u001b[0m \u001b[32m332.8/332.8 kB\u001b[0m \u001b[31m31.3 MB/s\u001b[0m eta \u001b[36m0:00:00\u001b[0m\n",
            "\u001b[?25hCollecting langchain-text-splitters<0.3.0,>=0.2.0 (from langchain)\n",
            "  Downloading langchain_text_splitters-0.2.2-py3-none-any.whl (25 kB)\n",
            "Collecting langsmith<0.2.0,>=0.1.17 (from langchain)\n",
            "  Downloading langsmith-0.1.82-py3-none-any.whl (127 kB)\n",
            "\u001b[2K     \u001b[90m━━━━━━━━━━━━━━━━━━━━━━━━━━━━━━━━━━━━━━━━\u001b[0m \u001b[32m127.4/127.4 kB\u001b[0m \u001b[31m15.5 MB/s\u001b[0m eta \u001b[36m0:00:00\u001b[0m\n",
            "\u001b[?25hRequirement already satisfied: numpy<2,>=1 in /usr/local/lib/python3.10/dist-packages (from langchain) (1.25.2)\n",
            "Requirement already satisfied: pydantic<3,>=1 in /usr/local/lib/python3.10/dist-packages (from langchain) (2.7.4)\n",
            "Requirement already satisfied: requests<3,>=2 in /usr/local/lib/python3.10/dist-packages (from langchain) (2.31.0)\n",
            "Requirement already satisfied: tenacity!=8.4.0,<9.0.0,>=8.1.0 in /usr/local/lib/python3.10/dist-packages (from langchain) (8.4.1)\n",
            "Collecting dataclasses-json<0.7,>=0.5.7 (from langchain-community)\n",
            "  Downloading dataclasses_json-0.6.7-py3-none-any.whl (28 kB)\n",
            "Requirement already satisfied: huggingface-hub in /usr/local/lib/python3.10/dist-packages (from ctransformers) (0.23.4)\n",
            "Requirement already satisfied: py-cpuinfo<10.0.0,>=9.0.0 in /usr/local/lib/python3.10/dist-packages (from ctransformers) (9.0.0)\n",
            "Requirement already satisfied: aiosignal>=1.1.2 in /usr/local/lib/python3.10/dist-packages (from aiohttp<4.0.0,>=3.8.3->langchain) (1.3.1)\n",
            "Requirement already satisfied: attrs>=17.3.0 in /usr/local/lib/python3.10/dist-packages (from aiohttp<4.0.0,>=3.8.3->langchain) (23.2.0)\n",
            "Requirement already satisfied: frozenlist>=1.1.1 in /usr/local/lib/python3.10/dist-packages (from aiohttp<4.0.0,>=3.8.3->langchain) (1.4.1)\n",
            "Requirement already satisfied: multidict<7.0,>=4.5 in /usr/local/lib/python3.10/dist-packages (from aiohttp<4.0.0,>=3.8.3->langchain) (6.0.5)\n",
            "Requirement already satisfied: yarl<2.0,>=1.0 in /usr/local/lib/python3.10/dist-packages (from aiohttp<4.0.0,>=3.8.3->langchain) (1.9.4)\n",
            "Collecting marshmallow<4.0.0,>=3.18.0 (from dataclasses-json<0.7,>=0.5.7->langchain-community)\n",
            "  Downloading marshmallow-3.21.3-py3-none-any.whl (49 kB)\n",
            "\u001b[2K     \u001b[90m━━━━━━━━━━━━━━━━━━━━━━━━━━━━━━━━━━━━━━━━\u001b[0m \u001b[32m49.2/49.2 kB\u001b[0m \u001b[31m6.8 MB/s\u001b[0m eta \u001b[36m0:00:00\u001b[0m\n",
            "\u001b[?25hCollecting typing-inspect<1,>=0.4.0 (from dataclasses-json<0.7,>=0.5.7->langchain-community)\n",
            "  Downloading typing_inspect-0.9.0-py3-none-any.whl (8.8 kB)\n",
            "Collecting jsonpatch<2.0,>=1.33 (from langchain-core<0.3.0,>=0.2.10->langchain)\n",
            "  Downloading jsonpatch-1.33-py2.py3-none-any.whl (12 kB)\n",
            "Requirement already satisfied: packaging<25,>=23.2 in /usr/local/lib/python3.10/dist-packages (from langchain-core<0.3.0,>=0.2.10->langchain) (24.1)\n",
            "Collecting orjson<4.0.0,>=3.9.14 (from langsmith<0.2.0,>=0.1.17->langchain)\n",
            "  Downloading orjson-3.10.5-cp310-cp310-manylinux_2_17_x86_64.manylinux2014_x86_64.whl (144 kB)\n",
            "\u001b[2K     \u001b[90m━━━━━━━━━━━━━━━━━━━━━━━━━━━━━━━━━━━━━━━━\u001b[0m \u001b[32m145.0/145.0 kB\u001b[0m \u001b[31m15.4 MB/s\u001b[0m eta \u001b[36m0:00:00\u001b[0m\n",
            "\u001b[?25hRequirement already satisfied: annotated-types>=0.4.0 in /usr/local/lib/python3.10/dist-packages (from pydantic<3,>=1->langchain) (0.7.0)\n",
            "Requirement already satisfied: pydantic-core==2.18.4 in /usr/local/lib/python3.10/dist-packages (from pydantic<3,>=1->langchain) (2.18.4)\n",
            "Requirement already satisfied: typing-extensions>=4.6.1 in /usr/local/lib/python3.10/dist-packages (from pydantic<3,>=1->langchain) (4.12.2)\n",
            "Requirement already satisfied: charset-normalizer<4,>=2 in /usr/local/lib/python3.10/dist-packages (from requests<3,>=2->langchain) (3.3.2)\n",
            "Requirement already satisfied: idna<4,>=2.5 in /usr/local/lib/python3.10/dist-packages (from requests<3,>=2->langchain) (3.7)\n",
            "Requirement already satisfied: urllib3<3,>=1.21.1 in /usr/local/lib/python3.10/dist-packages (from requests<3,>=2->langchain) (2.0.7)\n",
            "Requirement already satisfied: certifi>=2017.4.17 in /usr/local/lib/python3.10/dist-packages (from requests<3,>=2->langchain) (2024.6.2)\n",
            "Requirement already satisfied: greenlet!=0.4.17 in /usr/local/lib/python3.10/dist-packages (from SQLAlchemy<3,>=1.4->langchain) (3.0.3)\n",
            "Requirement already satisfied: filelock in /usr/local/lib/python3.10/dist-packages (from huggingface-hub->ctransformers) (3.15.3)\n",
            "Requirement already satisfied: fsspec>=2023.5.0 in /usr/local/lib/python3.10/dist-packages (from huggingface-hub->ctransformers) (2023.6.0)\n",
            "Requirement already satisfied: tqdm>=4.42.1 in /usr/local/lib/python3.10/dist-packages (from huggingface-hub->ctransformers) (4.66.4)\n",
            "Collecting jsonpointer>=1.9 (from jsonpatch<2.0,>=1.33->langchain-core<0.3.0,>=0.2.10->langchain)\n",
            "  Downloading jsonpointer-3.0.0-py2.py3-none-any.whl (7.6 kB)\n",
            "Collecting mypy-extensions>=0.3.0 (from typing-inspect<1,>=0.4.0->dataclasses-json<0.7,>=0.5.7->langchain-community)\n",
            "  Downloading mypy_extensions-1.0.0-py3-none-any.whl (4.7 kB)\n",
            "Installing collected packages: orjson, mypy-extensions, marshmallow, jsonpointer, typing-inspect, jsonpatch, langsmith, dataclasses-json, ctransformers, langchain-core, langchain-text-splitters, langchain, langchain-community\n",
            "Successfully installed ctransformers-0.2.27 dataclasses-json-0.6.7 jsonpatch-1.33 jsonpointer-3.0.0 langchain-0.2.6 langchain-community-0.2.6 langchain-core-0.2.10 langchain-text-splitters-0.2.2 langsmith-0.1.82 marshmallow-3.21.3 mypy-extensions-1.0.0 orjson-3.10.5 typing-inspect-0.9.0\n"
          ]
        }
      ]
    },
    {
      "cell_type": "code",
      "execution_count": 3,
      "metadata": {
        "id": "DTMdPiOpDy5u"
      },
      "outputs": [],
      "source": [
        "from langchain.llms import CTransformers\n",
        "from IPython.display import display, HTML\n",
        "\n",
        "# Initialize the LLaMA 2 model (make sure you have the model locally)\n",
        "llm = CTransformers(model=\"/content/drive/MyDrive/models/llama-2-7b-chat.ggmlv3.q8_0.bin\", model_type=\"llama\", config={'max_new_tokens': 256, 'temperature': 0.01})\n",
        "\n",
        "def query_non_rag(llm, question):\n",
        "    response = llm(question)\n",
        "    return response\n",
        "\n",
        "# Example questions\n",
        "# questions = [\n",
        "#     \"Who is the Prime Minister of India?\",\n",
        "#     \"How will the OTP be sent to the customers?\",\n",
        "#     \"Where can I shop with Verified by Visa?\"\n",
        "# ]\n",
        "\n",
        "# Query the model and print the responses\n",
        "# for question in questions:\n",
        "#     response = query_non_rag(llm, question)\n",
        "#     display(HTML(f\"<strong>Question:</strong> {question}\"))\n",
        "#     display(HTML(f\"<strong>Answer:</strong> {response}\"))"
      ]
    },
    {
      "cell_type": "code",
      "source": [
        "def query(question):\n",
        "    response = query_non_rag(llm, question)\n",
        "    display(HTML(f\"<strong>Question:</strong> {question}\"))\n",
        "    display(HTML(f\"<strong>Answer:</strong> {response}\"))"
      ],
      "metadata": {
        "id": "0Rkxc6WoJPSj"
      },
      "execution_count": 4,
      "outputs": []
    },
    {
      "cell_type": "code",
      "source": [
        "query(\"How can I obtain an IVR Password\")"
      ],
      "metadata": {
        "colab": {
          "base_uri": "https://localhost:8080/",
          "height": 52
        },
        "id": "3ZCSRipCJnlJ",
        "outputId": "e1e41d99-2520-4324-f772-136a3df7e481"
      },
      "execution_count": null,
      "outputs": [
        {
          "output_type": "display_data",
          "data": {
            "text/plain": [
              "<IPython.core.display.HTML object>"
            ],
            "text/html": [
              "<strong>Question:</strong> How can I obtain an IVR Password"
            ]
          },
          "metadata": {}
        },
        {
          "output_type": "display_data",
          "data": {
            "text/plain": [
              "<IPython.core.display.HTML object>"
            ],
            "text/html": [
              "<strong>Answer:</strong>  Recovery PIN?\n",
              "\n",
              "I am unable to retrieve my password for my IVR account and need assistance. How do I obtain a PIN to reset my password?"
            ]
          },
          "metadata": {}
        }
      ]
    },
    {
      "cell_type": "code",
      "source": [
        "query(\"Who is the Prime Minister of India?\")"
      ],
      "metadata": {
        "colab": {
          "base_uri": "https://localhost:8080/",
          "height": 124
        },
        "id": "UJWwTHUhJq_n",
        "outputId": "aa6dcaf5-d21e-4637-868c-0a9c0987057b"
      },
      "execution_count": 5,
      "outputs": [
        {
          "output_type": "stream",
          "name": "stderr",
          "text": [
            "/usr/local/lib/python3.10/dist-packages/langchain_core/_api/deprecation.py:139: LangChainDeprecationWarning: The method `BaseLLM.__call__` was deprecated in langchain-core 0.1.7 and will be removed in 0.3.0. Use invoke instead.\n",
            "  warn_deprecated(\n"
          ]
        },
        {
          "output_type": "display_data",
          "data": {
            "text/plain": [
              "<IPython.core.display.HTML object>"
            ],
            "text/html": [
              "<strong>Question:</strong> Who is the Prime Minister of India?"
            ]
          },
          "metadata": {}
        },
        {
          "output_type": "display_data",
          "data": {
            "text/plain": [
              "<IPython.core.display.HTML object>"
            ],
            "text/html": [
              "<strong>Answer:</strong> \n",
              "The Prime Minister of India is Narendra Modi. He has been serving as the Prime Minister since May 2014 and was re-elected for a second term in May 2019. Prior to becoming Prime Minister, Modi served as the Chief Minister of Gujarat from 2001 to 2014."
            ]
          },
          "metadata": {}
        }
      ]
    },
    {
      "cell_type": "code",
      "source": [
        "query(\"How will the OTP be sent to the customers?\")"
      ],
      "metadata": {
        "colab": {
          "base_uri": "https://localhost:8080/",
          "height": 139
        },
        "id": "JqwuyXLKJw7f",
        "outputId": "cf26c919-5093-4103-e8ae-b7dc060c625f"
      },
      "execution_count": null,
      "outputs": [
        {
          "output_type": "display_data",
          "data": {
            "text/plain": [
              "<IPython.core.display.HTML object>"
            ],
            "text/html": [
              "<strong>Question:</strong> How will the OTP be sent to the customers?"
            ]
          },
          "metadata": {}
        },
        {
          "output_type": "display_data",
          "data": {
            "text/plain": [
              "<IPython.core.display.HTML object>"
            ],
            "text/html": [
              "<strong>Answer:</strong> \n",
              "\n",
              "Answer: There are several ways in which an OTP can be sent to a customer, depending on the specific use case and the technology used. Here are some common methods:\n",
              "\n",
              "1. SMS: One of the most common methods of sending an OTP is via SMS (Short Message Service). The OTP is sent as a text message to the customer's mobile phone, which they can then enter at the point of transaction to verify their identity.\n",
              "2. Email: Another option is to send the OTP via email to the customer's registered email address. This method is particularly useful for customers who prefer to use email for authentication purposes.\n",
              "3. App notification: Many organizations now use mobile apps to deliver OTPs to customers. When a customer logs into their app, they can receive an OTP as a push notification on their mobile device.\n",
              "4. IVR (Interactive Voice Response): In some cases, an OTP may be delivered via an automated voice call. The customer receives an automated call with the OTP, which they can then enter at the point of transaction to verify their identity.\n",
              "5. QR code: Some organizations use QR codes to deliver OTPs to customers."
            ]
          },
          "metadata": {}
        }
      ]
    },
    {
      "cell_type": "code",
      "source": [
        "query(\"Where can I shop with Verified by Visa?\")"
      ],
      "metadata": {
        "colab": {
          "base_uri": "https://localhost:8080/",
          "height": 139
        },
        "id": "1T6boukVJ2A6",
        "outputId": "5d73f266-37ea-4047-d2c9-6b4c5e730e82"
      },
      "execution_count": null,
      "outputs": [
        {
          "output_type": "display_data",
          "data": {
            "text/plain": [
              "<IPython.core.display.HTML object>"
            ],
            "text/html": [
              "<strong>Question:</strong> Where can I shop with Verified by Visa?"
            ]
          },
          "metadata": {}
        },
        {
          "output_type": "display_data",
          "data": {
            "text/plain": [
              "<IPython.core.display.HTML object>"
            ],
            "text/html": [
              "<strong>Answer:</strong> \n",
              "==============================================\n",
              "\n",
              "Verified by Visa is a security feature offered by Visa, Inc. that helps to prevent fraudulent transactions by verifying the cardholder's identity through a password or PIN. If you have a Verified by Visa card, you can shop at any merchants that accept Visa cards, both online and in-store.\n",
              "\n",
              "Here are some popular shopping destinations where you can use your Verified by Visa card:\n",
              "\n",
              "1. Amazon - Amazon is one of the largest online retailers in the world, offering a wide range of products including electronics, clothing, home goods, and more.\n",
              "2. Walmart - Walmart is a leading retailer that offers everything from groceries to electronics, clothing, and home furnishings. You can shop online or in-store with your Verified by Visa card.\n",
              "3. eBay - eBay is an online marketplace where you can find new and used items for sale, including electronics, collectibles, clothing, and more.\n",
              "4. Target - Target is a general merchandise retailer that offers a wide range of products,"
            ]
          },
          "metadata": {}
        }
      ]
    },
    {
      "cell_type": "code",
      "source": [
        "query(\"How can I obtain a cheque book?\")"
      ],
      "metadata": {
        "id": "El6p2jeUJ_LU",
        "colab": {
          "base_uri": "https://localhost:8080/",
          "height": 139
        },
        "outputId": "0bdd7555-cd28-4817-e8a3-1c838a350548"
      },
      "execution_count": 6,
      "outputs": [
        {
          "output_type": "display_data",
          "data": {
            "text/plain": [
              "<IPython.core.display.HTML object>"
            ],
            "text/html": [
              "<strong>Question:</strong> How can I obtain a cheque book?"
            ]
          },
          "metadata": {}
        },
        {
          "output_type": "display_data",
          "data": {
            "text/plain": [
              "<IPython.core.display.HTML object>"
            ],
            "text/html": [
              "<strong>Answer:</strong> \n",
              "\n",
              "You can obtain a cheque book from your bank by following these steps:\n",
              "\n",
              "1. Visit your bank branch: You can visit your bank branch and request for a cheque book. Most banks have a dedicated section for cheque books, where you can collect them after filling out the necessary forms.\n",
              "2. Online Banking: Many banks offer online banking services, where you can request for a cheque book through their website or mobile app. You will need to log in to your account and navigate to the cheque book request section.\n",
              "3. Phone Banking: Some banks have phone banking services, where you can request for a cheque book by calling their customer service number.\n",
              "4. ATM: Some banks have ATMs that dispense cheque books. You can locate an ATM near you and withdraw a cheque book.\n",
              "5. Post Office: If you don't have access to a bank branch or online banking services, you can purchase a cheque book from a post office.\n",
              "6. Third-party providers: Some third-party providers like Paytm, PhonePe, etc offer cheque books for sale.\n",
              "\n",
              "It's important to note that some banks may"
            ]
          },
          "metadata": {}
        }
      ]
    },
    {
      "cell_type": "code",
      "source": [
        "query(\"What is LIME?\")"
      ],
      "metadata": {
        "colab": {
          "base_uri": "https://localhost:8080/",
          "height": 156
        },
        "id": "dGKg8n43S2Wl",
        "outputId": "845ea8fc-994c-4283-bd0a-4a0c96ece5b7"
      },
      "execution_count": 7,
      "outputs": [
        {
          "output_type": "display_data",
          "data": {
            "text/plain": [
              "<IPython.core.display.HTML object>"
            ],
            "text/html": [
              "<strong>Question:</strong> What is LIME?"
            ]
          },
          "metadata": {}
        },
        {
          "output_type": "display_data",
          "data": {
            "text/plain": [
              "<IPython.core.display.HTML object>"
            ],
            "text/html": [
              "<strong>Answer:</strong> \n",
              "\n",
              "LIME (Local Interpretable Model-agnostic Explanations) is a technique for explaining the predictions of machine learning models. It works by generating an interpretable model locally around a specific instance, which approximates how the original model is making predictions for that instance. The resulting explanation provides insight into which features of the instance are driving the prediction, and can be visualized as a heatmap or scatterplot.\n",
              "\n",
              "LIME was first proposed in the paper \"Why Should I Trust You?\" Explaining the Decisions of Any Classifier by Ribeiro et al. in 2016. It has since become a popular tool for explaining machine learning models, and is widely used in industry and academia.\n",
              "\n",
              "How does LIME work?\n",
              "\n",
              "LIME works by generating an interpretable model locally around a specific instance. The interpretable model is typically a linear model, such as a regression or classification model, that approximates how the original model is making predictions for that instance.\n",
              "\n",
              "The process of generating an explanation using LIME can be broken down into the following steps:\n",
              "\n",
              "1. Select a instance: Choose an instance from the dataset that you want to explain the prediction for.\n",
              "2. Generate an"
            ]
          },
          "metadata": {}
        }
      ]
    },
    {
      "cell_type": "code",
      "source": [
        "query(\"What is PingPay?\")"
      ],
      "metadata": {
        "colab": {
          "base_uri": "https://localhost:8080/",
          "height": 139
        },
        "id": "jX4YFwZES4Kk",
        "outputId": "52b88819-927b-47ef-fbeb-1ef29bad3a65"
      },
      "execution_count": 8,
      "outputs": [
        {
          "output_type": "display_data",
          "data": {
            "text/plain": [
              "<IPython.core.display.HTML object>"
            ],
            "text/html": [
              "<strong>Question:</strong> What is PingPay?"
            ]
          },
          "metadata": {}
        },
        {
          "output_type": "display_data",
          "data": {
            "text/plain": [
              "<IPython.core.display.HTML object>"
            ],
            "text/html": [
              "<strong>Answer:</strong> \n",
              "PingPay is a digital payment platform that allows users to make payments online, in-person, or through mobile devices. It was founded in 2015 and is headquartered in Singapore. PingPay offers a range of services, including payment processing, fraud detection, and payment gateway integration.\n",
              "\n",
              "How does PingPay work?\n",
              "PingPay works by providing a platform for merchants to accept payments from customers through various channels, such as credit cards, debit cards, and e-wallets. When a customer makes a purchase, the payment is processed through PingPay's system, which verifies the transaction and transfers the funds to the merchant's account.\n",
              "\n",
              "What are the benefits of using PingPay?\n",
              "There are several benefits to using PingPay, including:\n",
              "\n",
              "1. Security: PingPay uses advanced security measures, such as encryption and fraud detection, to protect transactions and prevent fraud.\n",
              "2. Convenience: PingPay allows merchants to accept payments through multiple channels, making it easy for customers to make purchases.\n",
              "3. Scalability: PingPay's platform can handle large volumes of transactions"
            ]
          },
          "metadata": {}
        }
      ]
    },
    {
      "cell_type": "code",
      "source": [
        "query(\"How to open a Savings Account?\")"
      ],
      "metadata": {
        "colab": {
          "base_uri": "https://localhost:8080/",
          "height": 139
        },
        "id": "cLQRBBfqS6f8",
        "outputId": "82cd31cd-e052-47e3-8136-d40c9280a3f7"
      },
      "execution_count": 9,
      "outputs": [
        {
          "output_type": "display_data",
          "data": {
            "text/plain": [
              "<IPython.core.display.HTML object>"
            ],
            "text/html": [
              "<strong>Question:</strong> How to open a Savings Account?"
            ]
          },
          "metadata": {}
        },
        {
          "output_type": "display_data",
          "data": {
            "text/plain": [
              "<IPython.core.display.HTML object>"
            ],
            "text/html": [
              "<strong>Answer:</strong> \n",
              "A savings account is a type of bank account that allows you to save money and earn interest on your balance. Here are the steps to open a savings account:\n",
              "1. Find a bank or credit union: Research local banks and credit unions to find one that meets your needs. Consider factors such as fees, interest rates, and customer service.\n",
              "2. Gather required documents: You will need to provide identification and proof of address to open a savings account. Typically, you will need a valid driver's license or passport, and a utility bill or lease agreement.\n",
              "3. Visit the bank or credit union: Go to the bank or credit union during business hours and speak with a representative. They will guide you through the process of opening a savings account.\n",
              "4. Fill out an application: You will need to fill out an application form, which will ask for personal information such as your name, address, and social security number.\n",
              "5. Deposit initial funds: You will need to make an initial deposit into your savings account. This can be done with cash, a check, or a transfer from another bank account.\n",
              "6. Review and sign the account agreement:"
            ]
          },
          "metadata": {}
        }
      ]
    },
    {
      "cell_type": "code",
      "source": [
        "query(\"How do I check the balance in my Current Account\")"
      ],
      "metadata": {
        "colab": {
          "base_uri": "https://localhost:8080/",
          "height": 139
        },
        "id": "1POvWDnTS68m",
        "outputId": "fad0a632-1980-46e4-9509-86556936f1c5"
      },
      "execution_count": 10,
      "outputs": [
        {
          "output_type": "display_data",
          "data": {
            "text/plain": [
              "<IPython.core.display.HTML object>"
            ],
            "text/html": [
              "<strong>Question:</strong> How do I check the balance in my Current Account"
            ]
          },
          "metadata": {}
        },
        {
          "output_type": "display_data",
          "data": {
            "text/plain": [
              "<IPython.core.display.HTML object>"
            ],
            "text/html": [
              "<strong>Answer:</strong> ?\n",
              "\n",
              "You can check your current account balance by logging into your online banking account, or by contacting your bank directly. Here are the steps to check your current account balance through online banking:\n",
              "\n",
              "1. Log in to your online banking account using your username and password.\n",
              "2. Click on the \"Accounts\" or \"Balance\" tab to view your current account balance.\n",
              "3. If you have multiple current accounts, select the account for which you want to check the balance.\n",
              "4. Your current account balance will be displayed on the screen.\n",
              "\n",
              "Alternatively, you can also contact your bank's customer service by phone or email to check your current account balance. They will be able to provide you with the most up-to-date information about your account balance.\n",
              "\n",
              "It is important to regularly check your current account balance to ensure that there are no errors or discrepancies in your account. You can also set up account alerts through online banking to receive notifications when your account balance falls below a certain threshold, or when there are any other changes to your account."
            ]
          },
          "metadata": {}
        }
      ]
    },
    {
      "cell_type": "code",
      "source": [
        "query(\" How do I apply for a Locker\")"
      ],
      "metadata": {
        "colab": {
          "base_uri": "https://localhost:8080/",
          "height": 156
        },
        "id": "smgKpbJjS-nd",
        "outputId": "0e729528-4618-4c4c-ace4-0c5ac540df1d"
      },
      "execution_count": 11,
      "outputs": [
        {
          "output_type": "display_data",
          "data": {
            "text/plain": [
              "<IPython.core.display.HTML object>"
            ],
            "text/html": [
              "<strong>Question:</strong>  How do I apply for a Locker"
            ]
          },
          "metadata": {}
        },
        {
          "output_type": "display_data",
          "data": {
            "text/plain": [
              "<IPython.core.display.HTML object>"
            ],
            "text/html": [
              "<strong>Answer:</strong> bie College scholarship?\n",
              "To apply for a Lockerbie College scholarship, you will need to submit an application form and supporting documents. The specific requirements may vary depending on the scholarship, but here are some general steps you can follow:\n",
              "\n",
              "1. Research available scholarships: Look through our website or other sources (such as college websites or scholarship search engines) to find Lockerbie College scholarships that align with your interests and qualifications. Make a list of the scholarships you are interested in applying for.\n",
              "2. Review eligibility criteria: Each scholarship will have its own set of eligibility criteria, such as academic achievement, financial need, or extracurricular activities. Review these criteria to ensure you meet the requirements before applying.\n",
              "3. Gather required documents: Depending on the scholarship, you may be asked to provide various documents, such as transcripts, letters of recommendation, or an essay. Make sure you have all the necessary documents ready to submit with your application.\n",
              "4. Complete the application form: Once you have gathered all the necessary documents, complete the application form provided by Lockerbie College. The form may ask for personal information, academic history, and other relevant details."
            ]
          },
          "metadata": {}
        }
      ]
    },
    {
      "cell_type": "code",
      "source": [
        "query(\"What do I do if a fraudulent transaction has taken place on my Debit Card?\")"
      ],
      "metadata": {
        "id": "3Z7AuWVieseR",
        "outputId": "9ced6fb5-451a-4abc-be50-82db9235ff07",
        "colab": {
          "base_uri": "https://localhost:8080/",
          "height": 139
        }
      },
      "execution_count": 13,
      "outputs": [
        {
          "output_type": "display_data",
          "data": {
            "text/plain": [
              "<IPython.core.display.HTML object>"
            ],
            "text/html": [
              "<strong>Question:</strong> What do I do if a fraudulent transaction has taken place on my Debit Card?"
            ]
          },
          "metadata": {}
        },
        {
          "output_type": "display_data",
          "data": {
            "text/plain": [
              "<IPython.core.display.HTML object>"
            ],
            "text/html": [
              "<strong>Answer:</strong> \n",
              "\n",
              "If you suspect that a fraudulent transaction has occurred on your debit card, please contact us immediately. Here are the steps to take:\n",
              "\n",
              "1. Contact your bank: Call or visit your bank's customer service branch as soon as possible to report the fraudulent transaction. They will guide you through the process of canceling the card and issuing a new one.\n",
              "2. Contact the merchant: If the fraudulent transaction occurred at a store or online, contact the merchant directly to inform them of the issue.\n",
              "3. File a police report: If you have been a victim of credit card fraud, file a police report as soon as possible. This will help you when dealing with your bank and other financial institutions.\n",
              "4. Keep records: Keep a record of all transactions made on your debit card, including the date, time, amount, and location of each transaction. Also, keep any receipts or confirmations of transactions.\n",
              "5. Monitor your account: Regularly check your account activity to ensure that no other fraudulent transactions have occurred.\n",
              "6. Change your PIN: If you believe that your debit card has been compromised, change your PIN"
            ]
          },
          "metadata": {}
        }
      ]
    },
    {
      "cell_type": "code",
      "source": [
        "query(\" How will I know if interest rate on loan products is changed?\")"
      ],
      "metadata": {
        "colab": {
          "base_uri": "https://localhost:8080/",
          "height": 156
        },
        "id": "WpQKZWG1TBgY",
        "outputId": "549974e7-09fc-4d72-d9d4-de17fe07f217"
      },
      "execution_count": 12,
      "outputs": [
        {
          "output_type": "display_data",
          "data": {
            "text/plain": [
              "<IPython.core.display.HTML object>"
            ],
            "text/html": [
              "<strong>Question:</strong>  How will I know if interest rate on loan products is changed?"
            ]
          },
          "metadata": {}
        },
        {
          "output_type": "display_data",
          "data": {
            "text/plain": [
              "<IPython.core.display.HTML object>"
            ],
            "text/html": [
              "<strong>Answer:</strong> \n",
              "\n",
              "I am interested in keeping track of changes in interest rates for various loan products, such as mortgages, personal loans, and credit cards. Is there a way to stay informed about these changes? Here are some ways you can keep track of changes in interest rates:\n",
              "\n",
              "1. Monitor financial news websites and apps: Websites like CNBC, Bloomberg, and The Wall Street Journal provide real-time updates on interest rate changes for various loan products. You can also download mobile apps that offer similar functionality.\n",
              "2. Sign up for rate alerts from banks and lenders: Many banks and lenders offer rate alert services that allow you to receive notifications when interest rates change. This way, you will be informed as soon as there are any changes in the market.\n",
              "3. Follow central banks on social media: Central banks like the Federal Reserve, Bank of England, and European Central Bank often provide updates on their monetary policy decisions, which can affect interest rates. You can follow them on social media platforms like Twitter or LinkedIn to stay informed.\n",
              "4. Use online tools that track interest rates: There are several websites and tools available that allow you to compare interest rates for various loan products. Some popular options"
            ]
          },
          "metadata": {}
        }
      ]
    },
    {
      "cell_type": "code",
      "source": [],
      "metadata": {
        "id": "x0tnhYP3T9_1"
      },
      "execution_count": null,
      "outputs": []
    }
  ],
  "metadata": {
    "kernelspec": {
      "display_name": "Python 3",
      "name": "python3"
    },
    "language_info": {
      "codemirror_mode": {
        "name": "ipython",
        "version": 3
      },
      "file_extension": ".py",
      "mimetype": "text/x-python",
      "name": "python",
      "nbconvert_exporter": "python",
      "pygments_lexer": "ipython3",
      "version": "3.11.3"
    },
    "colab": {
      "provenance": []
    }
  },
  "nbformat": 4,
  "nbformat_minor": 0
}