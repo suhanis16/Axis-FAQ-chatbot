{
  "cells": [
    {
      "cell_type": "markdown",
      "metadata": {
        "id": "Fh88pA8Bd7OK"
      },
      "source": [
        "# How to Run Llama 2 Locally with Python (Document QA)\n",
        "\n",
        "This Jupyter Notebook is part of a Blog Post on https://swharden.com\n",
        "\n",
        "https://swharden.com/blog/2023-07-29-ai-chat-locally-with-python/"
      ]
    },
    {
      "cell_type": "code",
      "execution_count": 1,
      "metadata": {
        "colab": {
          "base_uri": "https://localhost:8080/"
        },
        "id": "bmWScL3oJJ-y",
        "outputId": "b536687a-a303-40a6-e393-0094a94ab62a"
      },
      "outputs": [
        {
          "name": "stdout",
          "output_type": "stream",
          "text": [
            "Collecting langchain\n",
            "  Downloading langchain-0.2.6-py3-none-any.whl (975 kB)\n",
            "\u001b[?25l     \u001b[90m━━━━━━━━━━━━━━━━━━━━━━━━━━━━━━━━━━━━━━━━\u001b[0m \u001b[32m0.0/975.5 kB\u001b[0m \u001b[31m?\u001b[0m eta \u001b[36m-:--:--\u001b[0m\r\u001b[2K     \u001b[91m━━━━━━━━━━━\u001b[0m\u001b[90m╺\u001b[0m\u001b[90m━━━━━━━━━━━━━━━━━━━━━━━━━━━━\u001b[0m \u001b[32m276.5/975.5 kB\u001b[0m \u001b[31m8.3 MB/s\u001b[0m eta \u001b[36m0:00:01\u001b[0m\r\u001b[2K     \u001b[91m━━━━━━━━━━━━━━━━━━━━━━━━━━━━━━━━━━\u001b[0m\u001b[91m╸\u001b[0m\u001b[90m━━━━━\u001b[0m \u001b[32m849.9/975.5 kB\u001b[0m \u001b[31m12.4 MB/s\u001b[0m eta \u001b[36m0:00:01\u001b[0m\r\u001b[2K     \u001b[90m━━━━━━━━━━━━━━━━━━━━━━━━━━━━━━━━━━━━━━━━\u001b[0m \u001b[32m975.5/975.5 kB\u001b[0m \u001b[31m10.7 MB/s\u001b[0m eta \u001b[36m0:00:00\u001b[0m\n",
            "\u001b[?25hCollecting langchain-community\n",
            "  Downloading langchain_community-0.2.6-py3-none-any.whl (2.2 MB)\n",
            "\u001b[2K     \u001b[90m━━━━━━━━━━━━━━━━━━━━━━━━━━━━━━━━━━━━━━━━\u001b[0m \u001b[32m2.2/2.2 MB\u001b[0m \u001b[31m25.7 MB/s\u001b[0m eta \u001b[36m0:00:00\u001b[0m\n",
            "\u001b[?25hCollecting sentence_transformers\n",
            "  Downloading sentence_transformers-3.0.1-py3-none-any.whl (227 kB)\n",
            "\u001b[2K     \u001b[90m━━━━━━━━━━━━━━━━━━━━━━━━━━━━━━━━━━━━━━━━\u001b[0m \u001b[32m227.1/227.1 kB\u001b[0m \u001b[31m20.7 MB/s\u001b[0m eta \u001b[36m0:00:00\u001b[0m\n",
            "\u001b[?25hCollecting faiss-cpu\n",
            "  Downloading faiss_cpu-1.8.0.post1-cp310-cp310-manylinux_2_17_x86_64.manylinux2014_x86_64.whl (27.0 MB)\n",
            "\u001b[2K     \u001b[90m━━━━━━━━━━━━━━━━━━━━━━━━━━━━━━━━━━━━━━━━\u001b[0m \u001b[32m27.0/27.0 MB\u001b[0m \u001b[31m59.4 MB/s\u001b[0m eta \u001b[36m0:00:00\u001b[0m\n",
            "\u001b[?25hCollecting ctransformers\n",
            "  Downloading ctransformers-0.2.27-py3-none-any.whl (9.9 MB)\n",
            "\u001b[2K     \u001b[90m━━━━━━━━━━━━━━━━━━━━━━━━━━━━━━━━━━━━━━━━\u001b[0m \u001b[32m9.9/9.9 MB\u001b[0m \u001b[31m87.7 MB/s\u001b[0m eta \u001b[36m0:00:00\u001b[0m\n",
            "\u001b[?25hRequirement already satisfied: Transformers in /usr/local/lib/python3.10/dist-packages (4.41.2)\n",
            "Requirement already satisfied: PyYAML>=5.3 in /usr/local/lib/python3.10/dist-packages (from langchain) (6.0.1)\n",
            "Requirement already satisfied: SQLAlchemy<3,>=1.4 in /usr/local/lib/python3.10/dist-packages (from langchain) (2.0.31)\n",
            "Requirement already satisfied: aiohttp<4.0.0,>=3.8.3 in /usr/local/lib/python3.10/dist-packages (from langchain) (3.9.5)\n",
            "Requirement already satisfied: async-timeout<5.0.0,>=4.0.0 in /usr/local/lib/python3.10/dist-packages (from langchain) (4.0.3)\n",
            "Collecting langchain-core<0.3.0,>=0.2.10 (from langchain)\n",
            "  Downloading langchain_core-0.2.10-py3-none-any.whl (332 kB)\n",
            "\u001b[2K     \u001b[90m━━━━━━━━━━━━━━━━━━━━━━━━━━━━━━━━━━━━━━━━\u001b[0m \u001b[32m332.8/332.8 kB\u001b[0m \u001b[31m35.5 MB/s\u001b[0m eta \u001b[36m0:00:00\u001b[0m\n",
            "\u001b[?25hCollecting langchain-text-splitters<0.3.0,>=0.2.0 (from langchain)\n",
            "  Downloading langchain_text_splitters-0.2.2-py3-none-any.whl (25 kB)\n",
            "Collecting langsmith<0.2.0,>=0.1.17 (from langchain)\n",
            "  Downloading langsmith-0.1.82-py3-none-any.whl (127 kB)\n",
            "\u001b[2K     \u001b[90m━━━━━━━━━━━━━━━━━━━━━━━━━━━━━━━━━━━━━━━━\u001b[0m \u001b[32m127.4/127.4 kB\u001b[0m \u001b[31m21.4 MB/s\u001b[0m eta \u001b[36m0:00:00\u001b[0m\n",
            "\u001b[?25hRequirement already satisfied: numpy<2,>=1 in /usr/local/lib/python3.10/dist-packages (from langchain) (1.25.2)\n",
            "Requirement already satisfied: pydantic<3,>=1 in /usr/local/lib/python3.10/dist-packages (from langchain) (2.7.4)\n",
            "Requirement already satisfied: requests<3,>=2 in /usr/local/lib/python3.10/dist-packages (from langchain) (2.31.0)\n",
            "Requirement already satisfied: tenacity!=8.4.0,<9.0.0,>=8.1.0 in /usr/local/lib/python3.10/dist-packages (from langchain) (8.4.1)\n",
            "Collecting dataclasses-json<0.7,>=0.5.7 (from langchain-community)\n",
            "  Downloading dataclasses_json-0.6.7-py3-none-any.whl (28 kB)\n",
            "Requirement already satisfied: tqdm in /usr/local/lib/python3.10/dist-packages (from sentence_transformers) (4.66.4)\n",
            "Requirement already satisfied: torch>=1.11.0 in /usr/local/lib/python3.10/dist-packages (from sentence_transformers) (2.3.0+cu121)\n",
            "Requirement already satisfied: scikit-learn in /usr/local/lib/python3.10/dist-packages (from sentence_transformers) (1.2.2)\n",
            "Requirement already satisfied: scipy in /usr/local/lib/python3.10/dist-packages (from sentence_transformers) (1.11.4)\n",
            "Requirement already satisfied: huggingface-hub>=0.15.1 in /usr/local/lib/python3.10/dist-packages (from sentence_transformers) (0.23.4)\n",
            "Requirement already satisfied: Pillow in /usr/local/lib/python3.10/dist-packages (from sentence_transformers) (9.4.0)\n",
            "Requirement already satisfied: packaging in /usr/local/lib/python3.10/dist-packages (from faiss-cpu) (24.1)\n",
            "Requirement already satisfied: py-cpuinfo<10.0.0,>=9.0.0 in /usr/local/lib/python3.10/dist-packages (from ctransformers) (9.0.0)\n",
            "Requirement already satisfied: filelock in /usr/local/lib/python3.10/dist-packages (from Transformers) (3.15.3)\n",
            "Requirement already satisfied: regex!=2019.12.17 in /usr/local/lib/python3.10/dist-packages (from Transformers) (2024.5.15)\n",
            "Requirement already satisfied: tokenizers<0.20,>=0.19 in /usr/local/lib/python3.10/dist-packages (from Transformers) (0.19.1)\n",
            "Requirement already satisfied: safetensors>=0.4.1 in /usr/local/lib/python3.10/dist-packages (from Transformers) (0.4.3)\n",
            "Requirement already satisfied: aiosignal>=1.1.2 in /usr/local/lib/python3.10/dist-packages (from aiohttp<4.0.0,>=3.8.3->langchain) (1.3.1)\n",
            "Requirement already satisfied: attrs>=17.3.0 in /usr/local/lib/python3.10/dist-packages (from aiohttp<4.0.0,>=3.8.3->langchain) (23.2.0)\n",
            "Requirement already satisfied: frozenlist>=1.1.1 in /usr/local/lib/python3.10/dist-packages (from aiohttp<4.0.0,>=3.8.3->langchain) (1.4.1)\n",
            "Requirement already satisfied: multidict<7.0,>=4.5 in /usr/local/lib/python3.10/dist-packages (from aiohttp<4.0.0,>=3.8.3->langchain) (6.0.5)\n",
            "Requirement already satisfied: yarl<2.0,>=1.0 in /usr/local/lib/python3.10/dist-packages (from aiohttp<4.0.0,>=3.8.3->langchain) (1.9.4)\n",
            "Collecting marshmallow<4.0.0,>=3.18.0 (from dataclasses-json<0.7,>=0.5.7->langchain-community)\n",
            "  Downloading marshmallow-3.21.3-py3-none-any.whl (49 kB)\n",
            "\u001b[2K     \u001b[90m━━━━━━━━━━━━━━━━━━━━━━━━━━━━━━━━━━━━━━━━\u001b[0m \u001b[32m49.2/49.2 kB\u001b[0m \u001b[31m8.0 MB/s\u001b[0m eta \u001b[36m0:00:00\u001b[0m\n",
            "\u001b[?25hCollecting typing-inspect<1,>=0.4.0 (from dataclasses-json<0.7,>=0.5.7->langchain-community)\n",
            "  Downloading typing_inspect-0.9.0-py3-none-any.whl (8.8 kB)\n",
            "Requirement already satisfied: fsspec>=2023.5.0 in /usr/local/lib/python3.10/dist-packages (from huggingface-hub>=0.15.1->sentence_transformers) (2023.6.0)\n",
            "Requirement already satisfied: typing-extensions>=3.7.4.3 in /usr/local/lib/python3.10/dist-packages (from huggingface-hub>=0.15.1->sentence_transformers) (4.12.2)\n",
            "Collecting jsonpatch<2.0,>=1.33 (from langchain-core<0.3.0,>=0.2.10->langchain)\n",
            "  Downloading jsonpatch-1.33-py2.py3-none-any.whl (12 kB)\n",
            "Collecting orjson<4.0.0,>=3.9.14 (from langsmith<0.2.0,>=0.1.17->langchain)\n",
            "  Downloading orjson-3.10.5-cp310-cp310-manylinux_2_17_x86_64.manylinux2014_x86_64.whl (144 kB)\n",
            "\u001b[2K     \u001b[90m━━━━━━━━━━━━━━━━━━━━━━━━━━━━━━━━━━━━━━━━\u001b[0m \u001b[32m145.0/145.0 kB\u001b[0m \u001b[31m17.6 MB/s\u001b[0m eta \u001b[36m0:00:00\u001b[0m\n",
            "\u001b[?25hRequirement already satisfied: annotated-types>=0.4.0 in /usr/local/lib/python3.10/dist-packages (from pydantic<3,>=1->langchain) (0.7.0)\n",
            "Requirement already satisfied: pydantic-core==2.18.4 in /usr/local/lib/python3.10/dist-packages (from pydantic<3,>=1->langchain) (2.18.4)\n",
            "Requirement already satisfied: charset-normalizer<4,>=2 in /usr/local/lib/python3.10/dist-packages (from requests<3,>=2->langchain) (3.3.2)\n",
            "Requirement already satisfied: idna<4,>=2.5 in /usr/local/lib/python3.10/dist-packages (from requests<3,>=2->langchain) (3.7)\n",
            "Requirement already satisfied: urllib3<3,>=1.21.1 in /usr/local/lib/python3.10/dist-packages (from requests<3,>=2->langchain) (2.0.7)\n",
            "Requirement already satisfied: certifi>=2017.4.17 in /usr/local/lib/python3.10/dist-packages (from requests<3,>=2->langchain) (2024.6.2)\n",
            "Requirement already satisfied: greenlet!=0.4.17 in /usr/local/lib/python3.10/dist-packages (from SQLAlchemy<3,>=1.4->langchain) (3.0.3)\n",
            "Requirement already satisfied: sympy in /usr/local/lib/python3.10/dist-packages (from torch>=1.11.0->sentence_transformers) (1.12.1)\n",
            "Requirement already satisfied: networkx in /usr/local/lib/python3.10/dist-packages (from torch>=1.11.0->sentence_transformers) (3.3)\n",
            "Requirement already satisfied: jinja2 in /usr/local/lib/python3.10/dist-packages (from torch>=1.11.0->sentence_transformers) (3.1.4)\n",
            "Collecting nvidia-cuda-nvrtc-cu12==12.1.105 (from torch>=1.11.0->sentence_transformers)\n",
            "  Using cached nvidia_cuda_nvrtc_cu12-12.1.105-py3-none-manylinux1_x86_64.whl (23.7 MB)\n",
            "Collecting nvidia-cuda-runtime-cu12==12.1.105 (from torch>=1.11.0->sentence_transformers)\n",
            "  Using cached nvidia_cuda_runtime_cu12-12.1.105-py3-none-manylinux1_x86_64.whl (823 kB)\n",
            "Collecting nvidia-cuda-cupti-cu12==12.1.105 (from torch>=1.11.0->sentence_transformers)\n",
            "  Using cached nvidia_cuda_cupti_cu12-12.1.105-py3-none-manylinux1_x86_64.whl (14.1 MB)\n",
            "Collecting nvidia-cudnn-cu12==8.9.2.26 (from torch>=1.11.0->sentence_transformers)\n",
            "  Using cached nvidia_cudnn_cu12-8.9.2.26-py3-none-manylinux1_x86_64.whl (731.7 MB)\n",
            "Collecting nvidia-cublas-cu12==12.1.3.1 (from torch>=1.11.0->sentence_transformers)\n",
            "  Using cached nvidia_cublas_cu12-12.1.3.1-py3-none-manylinux1_x86_64.whl (410.6 MB)\n",
            "Collecting nvidia-cufft-cu12==11.0.2.54 (from torch>=1.11.0->sentence_transformers)\n",
            "  Using cached nvidia_cufft_cu12-11.0.2.54-py3-none-manylinux1_x86_64.whl (121.6 MB)\n",
            "Collecting nvidia-curand-cu12==10.3.2.106 (from torch>=1.11.0->sentence_transformers)\n",
            "  Using cached nvidia_curand_cu12-10.3.2.106-py3-none-manylinux1_x86_64.whl (56.5 MB)\n",
            "Collecting nvidia-cusolver-cu12==11.4.5.107 (from torch>=1.11.0->sentence_transformers)\n",
            "  Using cached nvidia_cusolver_cu12-11.4.5.107-py3-none-manylinux1_x86_64.whl (124.2 MB)\n",
            "Collecting nvidia-cusparse-cu12==12.1.0.106 (from torch>=1.11.0->sentence_transformers)\n",
            "  Using cached nvidia_cusparse_cu12-12.1.0.106-py3-none-manylinux1_x86_64.whl (196.0 MB)\n",
            "Collecting nvidia-nccl-cu12==2.20.5 (from torch>=1.11.0->sentence_transformers)\n",
            "  Using cached nvidia_nccl_cu12-2.20.5-py3-none-manylinux2014_x86_64.whl (176.2 MB)\n",
            "Collecting nvidia-nvtx-cu12==12.1.105 (from torch>=1.11.0->sentence_transformers)\n",
            "  Using cached nvidia_nvtx_cu12-12.1.105-py3-none-manylinux1_x86_64.whl (99 kB)\n",
            "Requirement already satisfied: triton==2.3.0 in /usr/local/lib/python3.10/dist-packages (from torch>=1.11.0->sentence_transformers) (2.3.0)\n",
            "Collecting nvidia-nvjitlink-cu12 (from nvidia-cusolver-cu12==11.4.5.107->torch>=1.11.0->sentence_transformers)\n",
            "  Downloading nvidia_nvjitlink_cu12-12.5.40-py3-none-manylinux2014_x86_64.whl (21.3 MB)\n",
            "\u001b[2K     \u001b[90m━━━━━━━━━━━━━━━━━━━━━━━━━━━━━━━━━━━━━━━━\u001b[0m \u001b[32m21.3/21.3 MB\u001b[0m \u001b[31m72.4 MB/s\u001b[0m eta \u001b[36m0:00:00\u001b[0m\n",
            "\u001b[?25hRequirement already satisfied: joblib>=1.1.1 in /usr/local/lib/python3.10/dist-packages (from scikit-learn->sentence_transformers) (1.4.2)\n",
            "Requirement already satisfied: threadpoolctl>=2.0.0 in /usr/local/lib/python3.10/dist-packages (from scikit-learn->sentence_transformers) (3.5.0)\n",
            "Collecting jsonpointer>=1.9 (from jsonpatch<2.0,>=1.33->langchain-core<0.3.0,>=0.2.10->langchain)\n",
            "  Downloading jsonpointer-3.0.0-py2.py3-none-any.whl (7.6 kB)\n",
            "Collecting mypy-extensions>=0.3.0 (from typing-inspect<1,>=0.4.0->dataclasses-json<0.7,>=0.5.7->langchain-community)\n",
            "  Downloading mypy_extensions-1.0.0-py3-none-any.whl (4.7 kB)\n",
            "Requirement already satisfied: MarkupSafe>=2.0 in /usr/local/lib/python3.10/dist-packages (from jinja2->torch>=1.11.0->sentence_transformers) (2.1.5)\n",
            "Requirement already satisfied: mpmath<1.4.0,>=1.1.0 in /usr/local/lib/python3.10/dist-packages (from sympy->torch>=1.11.0->sentence_transformers) (1.3.0)\n",
            "Installing collected packages: orjson, nvidia-nvtx-cu12, nvidia-nvjitlink-cu12, nvidia-nccl-cu12, nvidia-curand-cu12, nvidia-cufft-cu12, nvidia-cuda-runtime-cu12, nvidia-cuda-nvrtc-cu12, nvidia-cuda-cupti-cu12, nvidia-cublas-cu12, mypy-extensions, marshmallow, jsonpointer, faiss-cpu, typing-inspect, nvidia-cusparse-cu12, nvidia-cudnn-cu12, jsonpatch, nvidia-cusolver-cu12, langsmith, dataclasses-json, ctransformers, langchain-core, sentence_transformers, langchain-text-splitters, langchain, langchain-community\n",
            "Successfully installed ctransformers-0.2.27 dataclasses-json-0.6.7 faiss-cpu-1.8.0.post1 jsonpatch-1.33 jsonpointer-3.0.0 langchain-0.2.6 langchain-community-0.2.6 langchain-core-0.2.10 langchain-text-splitters-0.2.2 langsmith-0.1.82 marshmallow-3.21.3 mypy-extensions-1.0.0 nvidia-cublas-cu12-12.1.3.1 nvidia-cuda-cupti-cu12-12.1.105 nvidia-cuda-nvrtc-cu12-12.1.105 nvidia-cuda-runtime-cu12-12.1.105 nvidia-cudnn-cu12-8.9.2.26 nvidia-cufft-cu12-11.0.2.54 nvidia-curand-cu12-10.3.2.106 nvidia-cusolver-cu12-11.4.5.107 nvidia-cusparse-cu12-12.1.0.106 nvidia-nccl-cu12-2.20.5 nvidia-nvjitlink-cu12-12.5.40 nvidia-nvtx-cu12-12.1.105 orjson-3.10.5 sentence_transformers-3.0.1 typing-inspect-0.9.0\n"
          ]
        }
      ],
      "source": [
        "%pip install langchain langchain-community sentence_transformers faiss-cpu ctransformers Transformers"
      ]
    },
    {
      "cell_type": "code",
      "execution_count": 2,
      "metadata": {
        "id": "PZP-xezZd7OP"
      },
      "outputs": [],
      "source": [
        "from langchain.document_loaders import DirectoryLoader, TextLoader\n",
        "from langchain.text_splitter import RecursiveCharacterTextSplitter\n",
        "from langchain.embeddings import HuggingFaceEmbeddings\n",
        "from langchain.vectorstores import FAISS\n",
        "from langchain.llms import CTransformers\n",
        "from langchain import PromptTemplate\n",
        "from langchain.chains import RetrievalQA\n",
        "\n",
        "from IPython.display import display, HTML\n",
        "import json\n",
        "import time\n",
        "import pathlib"
      ]
    },
    {
      "cell_type": "code",
      "execution_count": 3,
      "metadata": {
        "colab": {
          "base_uri": "https://localhost:8080/"
        },
        "id": "Hedmc6P2-yS_",
        "outputId": "f420b935-ffa1-4476-ef6b-062189f2d648"
      },
      "outputs": [
        {
          "name": "stdout",
          "output_type": "stream",
          "text": [
            "Mounted at /content/drive\n"
          ]
        }
      ],
      "source": [
        "from google.colab import drive\n",
        "drive.mount('/content/drive')"
      ]
    },
    {
      "cell_type": "markdown",
      "metadata": {
        "id": "bxl14X3Ed7OT"
      },
      "source": [
        "### Consume information in the documents"
      ]
    },
    {
      "cell_type": "code",
      "execution_count": 4,
      "metadata": {
        "id": "aDNIDCh8mV_P"
      },
      "outputs": [],
      "source": [
        "from langchain.document_loaders import CSVLoader\n",
        "from langchain.text_splitter import RecursiveCharacterTextSplitter\n",
        "from langchain.embeddings import HuggingFaceEmbeddings\n",
        "from langchain.vectorstores import FAISS\n",
        "import pandas as pd\n",
        "from langchain.docstore.document import Document\n"
      ]
    },
    {
      "cell_type": "code",
      "execution_count": 5,
      "metadata": {
        "id": "5_6hgYbxmVp7"
      },
      "outputs": [],
      "source": [
        "# # Load the CSV file with the correct encoding\n",
        "# file_path = \"/content/BankFAQs.csv\"\n",
        "# encoding = 'utf-8'  # or 'latin1' if utf-8 doesn't work\n",
        "# df = pd.read_csv(file_path, encoding=encoding)\n",
        "\n",
        "# # Convert the DataFrame into a list of Document objects\n",
        "# documents = [Document(page_content=f\"Question: {row['Question']}\\nAnswer: {row['Answer']}\\nClass: {row['Class']}\")\n",
        "#              for _, row in df.iterrows()]"
      ]
    },
    {
      "cell_type": "code",
      "execution_count": 6,
      "metadata": {
        "colab": {
          "base_uri": "https://localhost:8080/"
        },
        "id": "znjv9AF397wr",
        "outputId": "9341c74d-8790-44e8-b648-b96bcc183650"
      },
      "outputs": [
        {
          "name": "stdout",
          "output_type": "stream",
          "text": [
            "Collecting python-docx\n",
            "  Downloading python_docx-1.1.2-py3-none-any.whl (244 kB)\n",
            "\u001b[2K     \u001b[90m━━━━━━━━━━━━━━━━━━━━━━━━━━━━━━━━━━━━━━━━\u001b[0m \u001b[32m244.3/244.3 kB\u001b[0m \u001b[31m5.2 MB/s\u001b[0m eta \u001b[36m0:00:00\u001b[0m\n",
            "\u001b[?25hRequirement already satisfied: lxml>=3.1.0 in /usr/local/lib/python3.10/dist-packages (from python-docx) (4.9.4)\n",
            "Requirement already satisfied: typing-extensions>=4.9.0 in /usr/local/lib/python3.10/dist-packages (from python-docx) (4.12.2)\n",
            "Installing collected packages: python-docx\n",
            "Successfully installed python-docx-1.1.2\n"
          ]
        }
      ],
      "source": [
        "%pip install python-docx"
      ]
    },
    {
      "cell_type": "code",
      "execution_count": 15,
      "metadata": {
        "id": "UVLcQ1889G7H"
      },
      "outputs": [],
      "source": [
        "import pandas as pd\n",
        "import pathlib\n",
        "import docx\n",
        "from langchain.docstore.document import Document\n",
        "import os\n",
        "\n",
        "def read_docx(file_path):\n",
        "    doc = docx.Document(file_path)\n",
        "    return \"\\n\".join([paragraph.text for paragraph in doc.paragraphs])\n",
        "\n",
        "def load_all_files(directory_path):\n",
        "    data = []\n",
        "    for file_path in pathlib.Path(directory_path).glob(\"*\"):\n",
        "        if file_path.suffix == '.csv':\n",
        "            df = pd.read_csv(file_path)\n",
        "            for _, row in df.iterrows():\n",
        "                content = \" \".join(str(value) for value in row.values)\n",
        "                data.append(Document(page_content=content))\n",
        "        elif file_path.suffix == '.txt':\n",
        "            with open(file_path, 'r', encoding='utf-8') as f:\n",
        "                content = f.read()\n",
        "                data.append(Document(page_content=content))\n",
        "        elif file_path.suffix == '.docx':\n",
        "            content = read_docx(file_path)\n",
        "            data.append(Document(page_content=content))\n",
        "    return data\n"
      ]
    },
    {
      "cell_type": "code",
      "execution_count": 16,
      "metadata": {
        "id": "aW5gpeOOg0_Q"
      },
      "outputs": [],
      "source": [
        "# def load_all_files(directory):\n",
        "#     data = []\n",
        "\n",
        "#     if os.path.isfile(directory):\n",
        "#         file_path = directory\n",
        "#         if file_path.endswith('.xlsx'):\n",
        "#             df = pd.read_excel(file_path)\n",
        "#             data.extend(df.values.flatten().tolist())\n",
        "#         elif file_path.endswith('.txt'):\n",
        "#             with open(file_path, 'r') as file:\n",
        "#                 data.append(file.read())\n",
        "#     else:\n",
        "#         for filename in os.listdir(directory):\n",
        "#             file_path = os.path.join(directory, filename)\n",
        "#             if filename.endswith('.xlsx'):\n",
        "#                 df = pd.read_excel(file_path)\n",
        "#                 data.extend(df.values.flatten().tolist())\n",
        "#             elif filename.endswith('.txt'):\n",
        "#                 with open(file_path, 'r') as file:\n",
        "#                     data.append(file.read())\n",
        "\n",
        "#     return data\n",
        "\n"
      ]
    },
    {
      "cell_type": "code",
      "execution_count": 17,
      "metadata": {
        "id": "Gf909b9s9Mp9"
      },
      "outputs": [],
      "source": [
        "documents = load_all_files('/content/drive/MyDrive/Data')\n"
      ]
    },
    {
      "cell_type": "code",
      "execution_count": 18,
      "metadata": {
        "colab": {
          "base_uri": "https://localhost:8080/"
        },
        "id": "3Q_vYI-w-KHJ",
        "outputId": "20021bd9-b72f-43c2-ce76-2d5d40781f37"
      },
      "outputs": [
        {
          "data": {
            "text/plain": [
              "[Document(page_content=\"CUSTOMERS\\nConsistently enhance customer service by focusing on customer experience, innovation and quality assurance to deliver superior Axis Banking Experience\\n\\nWe continue to build sound customer franchises across distinct businesses and forge long-term relationships with our customers. We provide high-quality services and products through regular customer engagement in a convenient manner. Our customer centricity model has four key elements that address the design, delivery and service aspects of our products and services\\nMulti-channel delivery\\nCustomized solution\\nDependable technology\\nSimple process\\n\\nProducts and services\\n Our objective is to offer a full range of financial products and banking services catering to all levels of the economic pyramid. The products and services are delivered through multiple channels, thus giving our customers the flexibility to choose the channel that best suits them. Being a customer-centric bank, we place emphasis on customer engagement as an important enabler to innovate and deliver our products and services. This helps us understand and anticipate customer needs to develop customised products and service propositions for each customer segment. We have also developed a ‘Product Suitability Matrix’ for our retail products to ensure that the products are aligned to customer profiles and minimise the risk of product mis-selling.\\nFocus is also placed on important sectors of growth and geographies to enable inclusive development. With inclusive banking focus in mind, we set up 44% of our new branches during the year in semi-urban and rural areas.\\n\\nNew Products And Services Launched\\nFixed Deposit+ - higher rate of return on their fixed deposit investment based on whether the term deposits are with or without a premature withdrawal facility\\nOne glance statement for Burgundy and Priority customers - view all relationships with the Bank in a single statement\\nPremium Savings Accounts for Foreign Nationals of Non-Indian Origin\\nRural & Semi Urban (RUSU) Home loans, a Home loan product specifically for the rural and semi-urban customers\\nAsha Savings Account - zero balance account for people in distress during natural calamities and disasters\\nTotal Control - first-of-its-kind platform which allows all Debit Card customers to customise their cards as per usage preferences\\nBima Uphaar Yojana - a scheme to gift security to loved ones through personal and life insurance\\nAxis Forex Online, an online portal for resident Indians, including non-Axis account holders, to seamlessly send outward remittances as well as purchase retail forex products\\nLIME - India's first Mobile App integrating Wallet, Shopping, Payments and Banking\\nSME Dealer Power offering a comprehensive financing facility to the dealers of various companies in the country\\nPing Pay - India’s first multi-social application, used for the peer-to-peer transfer of money/recharges using social media\\nExim Power focused on offering financing facilities to SMEs engaged in export/import activities\\nWe provide comprehensive banking and financial services. Through our retail products and services we help customers meet their ‘life cycle’ financial needs. The eDGE Loyalty Rewards program is an award-winning bank-wide loyalty program that rewards customers across their Savings Account, Credit card, Debit card, Current Account, Loans and Forex relationships. The wholesale banking products and services cater to corporates, Government clients and also focus on fee-based trade finance and the treasury businesses.\\n\\nDigital future \\nIt is our constant endeavour to anticipate and meet customers’ evolving needs by offering innovative products and services. We have invested in digital banking services to provide an enriching experience and engagement through innovative and secure channels. Our digital banking agenda is based on principles of simplicity, comprehensiveness and innovation.\\nDigital banking services offered by us complement the branch network to take banking solutions to remote corners of the country and provide a seamless banking experience. Our digital banking agenda adopts a holistic approach addressing aspects related to customers, internal employees, branches and social media footprint to leverage the power of digitisation across the organisation.\\nDigital is the Future - Experience it now Opening a savings account with Axis Bank is now as simple as online shopping. Customers can open a savings account using the Mobile Banking app or internet banking with a few simple clicks. \\nFill in 6 simple personal details \\nGet an account number instantly \\nFund the account instantly \\nBook appointment with Axis Bank representative for delivery of account kit\\nSimilarly, customers can now check availability and book safety lockers in nearby branches through the Axis Mobile App. Fixed deposit customers can avail the e-advice service through multiple channels like Branch, Internet and Mobile Banking. Taking the digital drive to the masses and enabling underserved sections of society to access the formal banking system, Micro ATM Devices have been deployed at branches for facilitating Aadhar-based and biometric based transactions.\\n\\n\\nMulti-channel delivery \\nWith the emergence of the internet and advancements in technology, internet banking, telephone banking and mobile banking have emerged as an easy-to-access, paper-less ways of banking. We pursue a multi-channel banking strategy as a key pillar of our ‘customer centricity’ approach with four focus areas – consistency across channels, seamless multichannel integration, integrated customer data & information, and defined multichannel ownership.\\nOur various channels of delivery are designed to complement one another and empower customers to transact in an easy and secure manner at their own convenience. Technology is leveraged to provide a seamless experience across channels. We constantly review multi-channel delivery services for improvements and engage with customers directly to understand their choices and preferences which in turn helps us to provide customers with greener options that are more convenient to adopt.\\nPhone Banking 24X7 Phone Banking channel \\nBranches/ Retail Asset Centers 2,904 domestic branch network \\nATMs/ Self service kiosks 12,743 ATMS\\nPoint of Sale (POS) terminals Around 0.3 million POS terminals Nearly 50,000 POS terminals enabled for NFC card acceptances \\nInternet Banking 3.71 million users \\nMobile Banking App 2.38 million users\\n\\nDigital Circle \\nAxis Digital Circle is our new channel which aims to create digital alternatives for physical banking transactions. Launched in 2015, Digital Circle is a state-of-the-art strategic sales and service channel which delivers an omni-channel customer experience. It is equipped with multiple capabilities to reach out to customers with need-based banking solutions and fulfil the sales over a call. Currently, we have two Digital Circles live in Mumbai and Bengaluru.\\n\\nMulti-channel delivery highlights:\\nMobile banking:\\n• 2.38 million overall MB registrations (35% growth in Axis mobile users) \\n• `553 billion overall spends through MB (339% growth in spends) \\n• 53 million transaction count \\nInternet banking:\\n• 3.71 million overall IB netsecure registrations (23% growth in IB registrations)\\n• `950 billion overall spends through IB (16% growth in spends) \\n• 63 million transaction count\\nDigital channels: \\n• 0.33 million leads generated through the website across products \\n• 56% of overall leads generated for Personal Loans\\n\\nSocial media presence \\nSocial media is an important platform for us to connect and have a dialogue with our customers and other stakeholders. We actively use social media platforms to reach out to our customers for campaigns, new developments and achievements, among others. The platforms are also an avenue for our stakeholders to provide feedback and reach out to us directly.\\n\\nConsumer awareness and privacy \\nWe enable customers to make informed decisions about our products and services by providing them with right and transparent information. Product features and charges are informed to the customers during the transaction. The ‘Most Important Document’ contains terms and conditions including disclosures on any important disclaimers and grievance-redressal procedures. The Customer is required to read and sign on this important document along with the account opening / card application form. Where required by regulators or as an industry practice, the product labelling also includes a ‘risk rating’ of the product. Online tools are also available for customers to understand their eligibility, applicable interest rates and service charges for loan products such as home loans and car loans. SMS alerts are sent to customers when the charges or fees get triggered or levied in their account. Similarly, customers are made aware of free monthly ATM transactions available through SMS alerts. While requisite product and service information is provided to customers at the time of product purchase, it is critical for consumers in general to be aware of their rights and responsibilities in choosing the right products according to their risk profile and safeguarding against fraud. Our blog ‘Itsallaboutmoney’ provides a wealth of information to the public in general about various personal financial management concepts, safe banking, tips for choosing the right products, investment planning, consumer rights etc. Taxassist is another another web platform created to educate consumers about tax planning and saving. We also create awareness on safe banking through email alerts, SMS, ATM messages and websites. Information Security and Data Privacy are critical components of our operations. We continually implement measures guided by well-defined Information Systems Security Policies (ISSP) to meet regulatory requirements, satisfy voluntary industry standards, and adopt best practices towards managing information security and data privacy. All the applicable recommendations of the RBI Working Group issued on 29 April, 2011, relating to Information Security, Electronic Banking, Technology Risk Management and Cyber Frauds have been implemented. We have adopted and are certified for ISO 27001:2013 Information Security Management Systems and the Payment Card Industry Data Security Standard (PCI DSS) 3.0. Periodic Vulnerability Risk Assessments are conducted across key assets to assess the potential risks and adopt mitigating strategies. State-of-the-art solutions are deployed for Data Leakage Protection, Information Rights Management, Mobile Device Management, Mobile Application Management, and Advanced Persistent Threat Management to ensure that the data and information is stored, accessed and transferred in a controlled and secure environment. All electronic data and information transmitted to third-party agencies is stringently monitored and data encryptions are used to secure the use of such data. Employees are periodically trained on information security policies and measures, and they are required to complete a mandatory e-learning module on information security.\\nSafe Banking\\nTo disseminate the information on safe banking in an entertaining and fun way, we have created small videos which are tales about two friends Jai and Vicky. The videos illustrate real-life situations and how one should avoid common pitfalls that can lead to fraud. The safe banking tips include precautions to be taken while using an ATM, making payments through cards, and responding to suspicious emails and phone calls. The videos can be accessed through the blog itsallaboutmoney or through our YouTube channel. The videos were also widely circulated through WhatsApp mobile messaging app.\\nSimple Process \\nOur ‘Simple Process’ approach is designed to make banking and money management exceptionally easy across all behaviours and touch points. We empower our customers to transact using convenient, secure and cost-effective self-service and digital channels. Customers are offered bundled pricing options that are more transparent as monthly charges are declared at the outset. Process improvements under project ‘Pratham’ and other initiatives are pursued through the efficiencies offered by our new banking systems and more streamlined procedures such as paperless and remote account opening processes.\\n\\n2015-16 Highlights: \\nInsta Kit activation alert for customers on the registered mobile number\\nCustomer onboarding on digital platforms \\nReminders to customers to use the mobile app feature for requesting cheque books \\nReal-time offer-related pop ups made available on the mobile app \\nMobile number registration of joint account holders is made available for all new and existing customers for transaction alerts and One Time Passwords \\nProcess automation, lean documentation, and SLA monitoring and alignment for Forex-related processes (Inward Remittance, Outward Remittance, Retail Inward Remittance)\\neTDS certificate made available through Phone Banking and shared through the customers’ registered email ID \\nAadhaar seeding through Phone Banking made available \\nProcess automation, approval management system, and charge and document simplification for International Trade offerings (Foreign Letter of Credit, Buyer’s Credit, Import Bills, Export Bills) \\nOnline booking of Demand Draft and collection at any Axis Bank branch \\nStatement password made easy to remember - multiple and easy passwords enabled for customers to open e-statements \\nProcess automation, approval management system, and document simplification for Domestic Trade offerings (Inland Letter of Credit, Inland Bank Guarantee, Inward Bills of Collection, Outward Bills of Collection)\\n\\nCustomer service and engagement \\nOur aim is to provide unparalleled customer service. ‘PROGRESS’, \\nour Customer Service Credo,\\nProactive in approach \\nRight for the customer \\nOwn the solution \\nGo deeper \\nRemove the jargon \\nError free \\nSimplify \\nServe enthusiastically\\ndefines the basic tenets of customer service that we believe in and aspire to live daily. Our Customer Service Credo We continue to pursue our journey of ‘customer service excellence’ through various initiatives that reinforce a service culture across levels. The ‘PROGRESS’ service culture framework empowers people by creating multiple listening posts for capturing feedback, developing programs and enablers, which aid employees in delivering a differentiated customer service, creating a network of Service Guardians and Ambassadors, and felicitating the employees who live the values of our Customer Credo in their daily work through rewards and recognition programs. Focused programs are run to promote and address various aspects of customer service. ‘My Customer’ surveys help the frontline teams to provide valuable insights to understand the factors that impact our service standard, and ascertain our strengths and areas of opportunities. The ‘Axis One View’ Customer Relationship Management (CRM) tool provides a 360-degree view of the entire liability relationship of the customer in a single screen. We have strengthened the CRM platform with ‘Customer Profiler’ and ‘Customer Feedback Mechanism’ to capture all customer interactions and feedback, and build unique customer profiles, which enable us to service customers through personalised offerings. To assess the customer experience and quality of service, structured mystery shopping audits are conducted and the outcome is analysed to address the service gaps and identify further opportunities for improvement. During the year, we launched focused programs to capture instant customer feedback post their transaction and support the branches through weekly scores and progress feedback towards achieving perfection across six key servicing parameters. Customers have various channels through which they can reach out to us. Customer helplines and email details are provided on the Bank’s website. Customers can lodge their complaint on an online complaint management system. They can also report their grievances at the branches. All the complaints are monitored centrally. The TAT and escalation matrix are well defined to ensure the complaints are resolved in the minimum time possible. A three-level escalation matrix has been established for domestic and overseas customers. The analysis of customer complaints is done in a proactive manner and feedback is provided to business teams to ensure that appropriate mitigation measures are taken. The assessment of the quality of complaint closures is undertaken on a sample basis, to highlight process adherence gaps by branches and backend processing teams. The customer service and grievance redressal initiatives are reviewed at the highest level by the Customer Service Committee of the Board. At the executive level, the Standing Committee on Customer Service reviews customer service and grievance redressal initiatives. Customer engagement also falls within the purview of Standing Committee meetings wherein customers share their feedback. Supported by various product, process and service initiatives undertaken, we were able to reduce the complaints ratio (per thousand accounts) by 4%.\\n\\nCustomer satisfaction \\nWe conduct an annual Customer Satisfaction Survey (CSAT) to assess the perception and expectations of customers on various aspects of the Bank’s product, services and brand. At the transaction level, the Customer Transaction Survey (CTS) is an ongoing survey that is conducted with a sample of customers to understand their experience with different aspects of the Bank. The insights from the surveys are discussed in the Service Quality Council meetings. \\nSME Focus\\n We are committed to the growth of the Small and Medium Enterprise (SME) sector and offer a wide range of fast-track and customised products designed to meet the needs of the sector. Currently, we operate from 51 SME Centres and 9 SME Cells across the country to service customers effectively covering around more than 1,500 branches. Continual efforts are made to evolve new products and processes that will help in better serving the SME sector. “SME Dealer Power” launched during the year offers a comprehensive financing facility to the dealers of various companies in the country for efficient management of working capital and other business requirements. Another newly launched product “Exim Power” offers financing facilities to SMEs engaged in export/import activities and showcases our commitment towards the “Make in India” initiative. We have also adopted industrial cluster based financing as an important strategy towards ensuring manufacturing credit flow in the SME sector. As part of this initiative, important clusters have been identified across various sectors and plans have been developed to focus more on these identified clusters in the coming years We also support the SME sector growth through non-financial services focused on knowledge-based initiatives. ‘Evolve’ is a knowledge series that aims to provide a platform for SMEs to gain knowledge on new SME growth opportunities. The workshops involve expert speakers who provide insights on pertinent topics for SME sector growth. During the year, we expanded the ‘Evolve’ program to 40 cities across the country covering nearly 4,000 participants. This initiative is also a step towards further facilitating and contributing to the “Make in India” initiative. \\nFinancial Inclusion & Literacy \\nFinancial inclusion is a key enabler for inclusive growth and is pursued by the Government of India as a ‘national priority’. We have aligned our financial inclusion agenda with the four key pillars of financial inclusion promoted by the Government of India – savings, credit, remittances, and insurance and pension. Our endeavour is to serve the excluded sections of society in a cost-effective manner through specialised products and services designed for them. Financial literacy is an integral part of our financial inclusion agenda and aims to empower various sections of society with knowledge on the basics of savings and other personal financial management aspects. Promoting savings through the formal banking system A basic savings account provides a banking identity to the excluded and under-served sections of society and acts as a vital channel for them to access various financial services and social benefits, thus contributing to inclusive growth. We leverage our network of 587 rural branches, Business Correspondent network and technology to serve the financial inclusion customer base. Aadhar-based paperless eKYC is deployed towards ensuring a hassle-free account opening process. We also actively support the Government of India’s endeavour towards completing the comprehensive financial inclusion project ‘Pradhan Mantri Jan Dhan Yojana’ (PMJDY).\\nProviding customised credit services \\n‘Axis Sahyog’ is our micro-loan initiative to empower women groups to undertake income generation activities. Women form Joint Liability Groups (JLGs) to access micro-loans. Financial literacy is imparted to women groups to ensure that they have a basic understanding of concepts like savings, interest rates, credit score and so on. Women beneficiaries and their spouses are also covered through insurance to manage emergency situations. The initiative is currently active in the seven states of Bihar, Madhya Pradesh, Uttar Pradesh, Odisha, Karnataka, Maharashtra and Jharkhand. We have tied up with Business Correspondents to extend similar micro-loans in the state of Tamil Nadu and Gujarat. We also provide credit-related services to Non-Banking Financial Companies and Microfinance Institutions, which further cater to the excluded sections of society. To enable a secure and speedier onboarding and disbursal process, we have launched a new tablet-based Loan Origination system for Microfinance business. The application includes different modules for the onboarding of villages by conducting village surveys, and onboarding of applicants by conducting group trainings and tests, and completing the disbursement. The tablet application is integrated with our underwriting hub for real-time approvals/rejections based on bureau checks and underwriting rules. Agriculture lending is a key focus area for us. We have a wide range of products that cater to the specific needs of the rural and agricultural sector like cultivation needs, tractors, cattle, commodity storage and contract farming. We also engage with the farming community through agriculture expert talks to enable them to increase their productivity and earnings. We have created specialised products to address the needs of housing for economically weaker sections, and rural and semi-urban areas. The ‘Asha Home Loan’ caters to the Low Income Group/Economically Weaker Sections of society by providing them loans for affordable housing. During the year, we have also launched Rural & Semi Urban (RUSU) Home loans, a Home loan product specifically for Rural and Semi-Urban customers.\\nNGOs as Business Correspondent Partners \\nAxis Bank Foundation conducts livelihood programs with a specific focus on women empowerment. The women beneficiaries generally form Self Help Groups (SHGs) to pursue livelihood activities. ABF programs are spread across different districts in the country wherein some areas there is nominal or no banking facility. To enable the beneficiaries and SHGs to avail banking services, we have partnered with entities such as ABF Partner NGOs to deliver basic banking services under the Business Correspondent model. Currently, we have enrolled four NGOs as our BC partners and have opened basic savings accounts for 600 members of the SHGs to avail banking facilities through these BCs.\\nRemittance and payment services \\nOur easy-access remittance and payment services are designed to provide easy and secure domestic money transfers and especially help the migrant population to send money to their dependents in villages. The remittances can be made in three modes: cash to account, account to account, and account to cash. To ensure a wide outreach of such services, we leverage technology through mobile-enabled banking services in partnership with Suvidhaa Infoserve, Novopay Solutions Pvt Ltd. and Idea Mobile Commerce Services Ltd. The remittance and payment services are powered by a network of Business Correspondents (BC) and Customer Service Points (CSP). CSPs also serve the customers through small ticket payment services such as mobile and Direct-to-home (DTH) recharges, utility bill payments and loan re-payments. Direct credit and disbursal of Government benefits such as wages, pensions, subsidies etc. promote transparent governance and help in reducing slippages, thus ensuring that deserving beneficiaries avail such benefits in a safe and timely manner. We support Direct/Electronic Benefit Transfer schemes across 18 districts in the country. We secured the mandate to credit and disburse Social Security Payments (pensions), wages under the National Rural Employment Generation Act (NREGA) and subsidies like LPG subsidy across various states. The beneficiary accounts are linked to benefit schemes through Aadhar-enabled bank accounts. The beneficiaries can avail disbursals in cash through the Aadhar authentication mechanism after benefits are credited in their accounts. The disbursals are supported by a network of BCs and CSPs who are provided with micro-ATMs (biometric handheld devices) to facilitate door-step banking.\\nInsurance and pension schemes \\nThe Government of India has introduced various social security schemes in the Insurance and Pension sectors for all citizens, especially targeting the poor and the under-privileged. The two insurance schemes – Pradhan Mantri Jeevan Jyothi Bima Yojana (life cover) and Pradhan Mantri Suraksha Bima Yojana (accidental death and disability cover) – provide affordable insurance cover while the pension scheme Atal Pension Yojana is targeted at people in the unorganised sector who are currently not covered through formal pension schemes. We are authorised to enrol customers under these schemes. To popularise these schemes and to enrol a large number of people, we have conducted various camps and have sent messages to customers. During the year, we were able to enrol over one million people for these schemes.\\nFinancial Literacy \\nFinancial literacy is an important enabler for achieving comprehensive financial inclusion. Our financial literacy initiatives are aimed to create awareness on basic financial concepts like the need and importance of savings, insurance, investments for future, pension planning, loans, credit limits and repayments, which will enable people to better manage their personal finances and make informed decisions. Financial Literacy Camps (FLC) are conducted in rural areas using the broad-based financial literacy module developed by the Reserve Bank of India. Hand-held projectors, financial literacy posters, diaries and other tools are used to make the sessions interesting and easy to understand. During the year, we conducted 7,210 FLCs reaching out to approximately 68,000 people. Disseminating financial literacy is also a key component of our extension of the banking services arrangement with Business Correspondents (BCs). ‘Train the trainer’ program is conducted for BCs towards this end. We also conduct various health camps and agriculture talks in the vicinity of our branches to engage with local communities. During the year, we conducted over 500 such camps.\"),\n",
              " Document(page_content='AXIS CODE OF BANK’S COMMITMENT TO CUSTOMERS\\n\\nINTRODUCTION\\nThis is a Code of Customer Rights, which sets minimum standards of banking practices\\nmember banks have to follow while they deal with individual customers. It provides protection\\nto customers and explains how banks are expected to deal with customers in their day-to-day\\noperations.\\nThe Code does not replace or supersede regulatory or supervisory instructions of the Reserve\\nBank of India (RBI) and we will comply with such instructions / directions issued by RBI from time\\nto time. Provisions of the Code may have set higher standards than those prescribed in the\\nregulatory instructions and such higher standards will prevail as the Code represents best\\npractices voluntarily agreed to by us as our commitment to you.\\nWe will endeavour to adopt higher standards of banking practices to extend better customer\\nservice and achieve higher levels of customer satisfaction.\\nIn the Code, \\'you\\' denotes the customer and \\'we\\' / \\'us\\', the bank, the customer deals with.\\n1.1 Objectives of the Code\\nThe Code has been developed to :\\na. promote good and fair banking practices by setting minimum standards in our\\ndealings with you;\\nb. increase transparency so that you can have a better understanding of what\\nyou can reasonably expect from us;\\nc. encourage market forces, through competition, to achieve higher operating\\nstandards;\\nd. promote a fair and cordial relationship between you and your bank;\\ne. foster confidence in the banking system.\\nThe standards of the Code are covered by the key commitments in Section 2.\\n1.2 Application of the Code\\nThis Code applies to all the products and services listed below, whether they are\\nprovided by our branches or subsidiaries agents acting on our behalf, whether across\\nthe counter, over the phone, by post, through interactive electronic devices, on the\\ninternet or by any other method. However, all products discussed here may or may\\nnot be offered by us.\\na. Current accounts, savings accounts, term deposits, recurring deposits, PPF\\naccounts and all other deposit accounts;\\nb. Payment services such as pension, payment orders, remittances by way of\\nDemand Drafts, wire transfers and all electronic transactions e.g. RTGS, NEFT;\\nc. Banking services related to Government transactions;\\nd. Demat accounts, equity, Government bonds;\\n5\\ne. Indian currency notes / coins exchange facility;\\nf. Collection of cheques, safe custody services, safe deposit locker facility;\\ng. Loans, overdrafts and guarantees;\\nh. Foreign exchange services including money changing;\\ni. Third party insurance and investment products marketed through our branches\\nand / or our authorized representatives or agents;\\nj. Card products including credit cards, debits cards, ATM cards, smart cards and\\nservices (including credit cards offered by our subsidiaries / companies\\npromoted by us).\\nThe meanings of key words appearing in bold black have been given in the Glossary.\\n2 KEY COMMITMENTS\\n2.1 Our key commitments to you\\n2.1.1 To act fairly and reasonably in all our dealings with you by\\na. Providing minimum banking facilities of receipt and payment of cash /\\ncheques, etc. at the bank\\'s counter.\\nb. Meeting the commitments and standards set in this Code, for the\\nproducts and services we offer, and in the procedures and practices\\nwe follow.\\nc. Making sure our products and services meet relevant laws and\\nregulations in letter and spirit and are appropriate to your needs.\\nd. Ensuring that our dealings with you rest on ethical principles of integrity\\nand transparency.\\ne. Operating secure and reliable banking and payment systems.\\n2.1.2 To help you to understand how our financial products and services work by\\na. Giving you information about them in any one or more of the following\\nlanguages - Hindi, English or the appropriate local language.\\nb. Ensuring that our advertising and promotional literature is clear and not\\nmisleading.\\nc. Ensuring that you are given clear information about our products and\\nservices, the terms and conditions and the interest rates / service\\ncharges, which apply to them.\\nd. Giving you information on the facilities provided to you and how you\\ncan avail of these and whom and how you may contact for\\naddressing your queries.\\n2.1.3 To help you use your account or service by\\na. Providing you regular appropriate updates.\\n6\\n2.1.5 To treat all your personal information as private and confidential\\nWe will treat all your personal information as private and confidential subject\\nto matters mentioned in Paragraph No. 5 below.\\nb. Keeping you informed about changes in the interest rates, charges or\\nterms and conditions.\\nc. Displaying in our branches, for your information\\ni. Services we provide.\\nii. Minimum balance requirement, if any, for Savings Bank Accounts\\nand Current Accounts and the charges for non-maintenance\\nthereof.\\niii. Name of the official at the branch whom you may approach if\\nyou have a grievance.\\niv. Name and address of the Regional / Zonal Manager / Principal\\nNodal Officer (PNO) whom you can approach if your grievance\\nis not redressed at the branch.\\nv. Name and contact details of the Banking Ombudsman under\\nwhose jurisdiction the branch falls.\\nvi. Information available in booklet form.\\nd. Displaying on our website our policies on\\ni. Deposits\\nii. Cheque collection\\niii. Grievance Redressal\\niv. Compensation\\nv. Collection of Dues and Security Repossession.\\n2.1.4 To deal quickly and sympathetically with things that go wrong by\\na. Correcting mistakes promptly and cancelling any bank charges that\\nwe apply by mistake and compensate you for any financial loss you\\nmay have incurred due to our mistake, in terms of our compensation\\npolicy.\\nb. Handling your complaints promptly.\\nc. Telling you how to take your complaint forward if you are still not\\nsatisfied.\\nd. Providing suitable alternative avenues to alleviate problems arising out\\nof technological failures.\\n7\\n2.1.6 To publicize the Code\\nWe will\\na. provide you with a copy of the Code when you open an account\\nwith us and otherwise on request.\\nb. make available this Code at every branch and on our website.\\nc. ensure that our staff are trained to provide relevant information\\nabout the Code and to effectively put the Code into practice.\\nd. take other steps to increase awareness of the customers about the\\nCode and its provisions.\\n2.1.7 To adopt and practice a non - discrimination policy\\nWe will not discriminate you on the basis of age, race, gender, marital status,\\nreligion, disability or financial status.\\n3 INFORMATION – TRANSPARENCY\\nYou can get information on interest rates, fees and charges through any one or more of the\\nfollowing :\\na. Notice Board in our branches.\\nb. Contacting our branches or help-lines.\\nc. Our website.\\nd. Asking our designated staff / help desk.\\ne. Referring to the Tariff Schedule at our branches / on our website.\\n3.1 General information\\nWe will\\na. give you information on the types of products and services we offer\\nand those that may suit your needs.\\nb. prominently display in bilingual / trilingual at all our branches the\\ndocuments required for opening Basic Savings Bank Deposit Accounts.\\nWe will also display the relaxed requirements for opening \"Small\\nAccounts\".\\nc. give you clear information explaining the key features of the services\\nand products you tell us you are interested in, including applicable\\ninterest rates, fees and charges.\\nd. tell you the different channels through which our products and services\\nmay be availed e.g. branches, ATMs, phone, Net banking and tell you\\nhow to find out more about them.\\ne. tell you what information we need from you to prove your identity and\\naddress, for us to comply with legal, regulatory and internal policy\\n8\\nrequirements.\\nf. give you information on your rights and responsibilities especially\\nregarding availing of nomination facility offered on all deposit\\naccounts, articles in safe custody and safe deposit lockers.\\n3.2 \\'Do Not Call\\' service\\nWe will not transmit to you any unsolicited commercial information regarding our products\\nand services, through telephone calls / SMS / e-mails, if you have registered with the \\'Do Not\\nCall Registry\\' of our bank. or with the \\'National Do Not Call Registry\\' directly or through your\\nService Provider. However, this will not apply to receipt of information regarding your\\naccount statements and other important advices and information including alerts relating\\nto transactions on your account as also the products and services you are currently\\navailing.\\n3.3 Interest rates\\nWe will give you information on\\na. the interest rates which apply to your deposit and loan accounts.\\nb. in case of loans at fixed rate of interest, details of interest reset clause, if\\nany, in the loan agreement and the effective date thereof.\\nc. in case of loans at floating rate of interest, the reference rate to which\\nyour floating rate will be linked and the premium or discount applied to\\nthe reference rate for determining the actual rate of interest on your\\nloan.\\nd. whether you have the option for converting your loan from fixed rate to\\nfloating rate and vice versa and, if so, the charges therefor.\\ne. periodicity at which we pay interest on your deposits or charge interest\\non your loan accounts.\\nf. how we apply interest to your deposit and loan accounts and how we\\ncalculate interest thereon.\\n3.3.1 Changes in interest rates\\nWe will inform you of changes in interest rates on our loan products and\\nchanges in the reference rate to which the floating rate of interest is\\nlinked within a fortnight of the decision by any of the following means :\\ni. Letter\\nii. e-mail\\niii. SMS\\nWe will also display this information on the Notice Boards in our\\nbranches as also on our website.\\n9\\n3.4 Tariff schedule\\n3.4.1 Fees & charges\\na. We will ensure that our fees and service charges for various\\nservices are approved by the bank\\'s Board or any competent\\nauthority duly authorized by the Board to take decisions in this\\nregard and that they would be reasonable and non-\\ndiscriminatory for similar class of customers.\\nb. We will place our Tariff Schedule on our website and make a\\ncopy available at every branch for your perusal. We will display\\nin our branches a notice about the availability of the Tariff\\nSchedule at the branch.\\nc. We will give you details in our Tariff Schedule of any charges\\napplicable to the products and services chosen by you.\\nd. We will also provide you information about the penalties leviable\\nin case of non-observance / violation of any of the terms and\\nconditions governing the product / services chosen by you.\\n3.4.2 Changes in fees & charges\\nIf we increase any fee or charge or introduce a new fee or charge, it will\\nbe notified through statements of accounts / e-mail / SMS alerts / notice\\nboard at branches, one month prior to the revised charges becoming\\neffective. This information will also be made available on our website.\\n3.5 Terms and conditions\\na. We will advise you the relevant terms and conditions for the products /\\nservices you have asked us to provide.\\nb. All terms and conditions will be fair and will set out the respective rights,\\nliabilities and obligations clearly and as far as possible in plain and simple\\nlanguage.\\n3.5.1 Changes to terms and conditions\\na. We will tell you of changes in terms and conditions through any\\none or more of the following channels one month prior to the\\nrevised terms and conditions becoming effective :\\ni. Letter\\nii. Statements of account\\niii. SMSs\\niv. e-mail\\nb. Normally, changes will be made with prospective effect giving\\nnotice of one month.\\nc. If we have made any change without notice, we will notify the\\nchange within 30 days. If such change is to your disadvantage,\\n10\\nyou may within 60 days of the notice, close your account or\\nswitch to any other eligible account without having to pay\\nrevised charge or interest.\\nd. We will immediately update, on our website, any changes in the\\nterms and conditions. We will give you, on request, a copy of the\\nnew terms and conditions.\\n4 ADVERTISING, MARKETING AND SALES\\na. We will make sure that all our advertising and promotional material is clear, and\\nnot misleading.\\nb. In any advertisement and promotional literature that draws attention to a\\nbanking service or product and includes a reference to an interest rate, we will\\nalso indicate whether other fees and charges will apply and full details of the\\nrelevant terms and conditions will be made available on request.\\nc. If we avail of the services of third parties for providing support services, we will\\nrequire that they handle your personal information (if available to such third\\nparties) with the same degree of confidentiality and security as we would.\\nd. We may, from time to time, communicate to you various features of our products\\navailed by you by e-mail, SMS or over the telephone. Information about our other\\nproducts or promotional offers in respect of our products / services will be\\nconveyed to you only if you have not registered for the \\'Do Not Call\\' facility.\\ne. We have prescribed a code of conduct for our Direct Selling Agencies (DSAs)\\nwhose services we may avail to market our products / services which, amongst\\nother matters, requires them to identify themselves as only selling agents of our\\nbank when they approach you for selling our products personally or through\\nphone. We will ensure that any third party or agent acting on our behalf or selling\\nour product complies with the code of conduct.\\nf. In the event of receipt of any complaint from you that our representative /\\ncourier or DSA has engaged in any improper conduct or acted in violation of this\\nCode, we shall take appropriate steps to investigate and to handle the\\ncomplaint and to make good the loss as per our compensation policy.\\ng. We will ensure that any third party or agent acting on our behalf or selling our\\nproduct discloses the fee or commission they are paid upon completion of the\\nsale.\\n5 PRIVACY AND CONFIDENTIALITY\\na. We will treat all your personal information as private and confidential (even when you\\nare no longer a customer), and shall be guided by the following principles and policies.\\nb. We will not reveal information or data relating to your accounts, whether provided by\\nyou or otherwise, to anyone, including other companies / entities in our group, other\\nthan in the following exceptional cases :\\ni. If we have to give the information by law or if required by the banking\\n11\\nregulator.\\nii. If there is a duty towards the public to reveal the information.\\niii. If our interests require us to give the information (for example, to prevent fraud)\\nbut we will not use this as a reason for giving information about you or your\\naccounts (including your name and address) to anyone else, including other\\ncompanies in our group, for marketing purposes.\\niv. If you authorize us to reveal the information.\\nv. If we are asked to give a banker\\'s reference about you, we will need your\\nwritten permission before we give it.\\nc. We will not use your personal information for marketing purposes by anyone including\\nourselves unless you specifically authorize us to do so.\\n5.1 Credit Information Companies\\nWhen you apply for a credit facility :\\na. We will explain to you the role of Credit Information Companies (CICs) as also\\nthe checks we may make with them and the effect that the information they\\nprovide can have on your ability to get credit.\\nb. We will on request, and on payment of prescribed fee, furnish you a copy of\\nthe credit information obtained by us from the CIC.\\nc. We will provide information about credit availed from us to the CIC at periodic\\nintervals.\\nd. Information reported to CIC will also include personal debts you owe us when\\ni. You have fallen behind with your payments\\nii. The amount owed is in dispute\\ne. If your loan account has been in default, but thereafter regularised, we will\\nupdate this information with the CIC in the next report.\\nf. We will, on request, inform you of the details of the CIC(s) to which we submit\\ninformation regarding the credit / loan facility you have availed from us.\\n6 COLLECTION OF DUES\\na. Whenever we give loans, we will explain to you the repayment schedule, viz. amount,\\ntenure and periodicity of repayment. However, if you do not adhere to repayment\\nschedule, a defined process in accordance with the laws of the land will be followed for\\nrecovery of dues.\\nb. We will have a Board approved policy for Collection of Dues and Security Repossession\\nas also appointment of Recovery Agents.\\nc. All relevant laws, regulations, guidelines and conditions of approval, licensing or\\nregistration will be taken into account when appointing Recovery Agents.\\n12\\nd. We will ensure that our Recovery Agents are properly trained to handle their\\nresponsibilities with care and sensitivity. We will also ensure that they do not exceed their\\nbrief.\\ne. Our collection policy is built on courtesy, fair treatment and persuasion. We believe in\\nfostering customer confidence and long-term relationship.\\nf. We will provide you with all the information regarding your dues and will endeavour to\\ngive sufficient notice for payment of dues.\\ng. We will have a system of checks before passing on a default case to recovery agencies\\nso that you are not harassed on account of lapses on our part.\\nh. We will write to you when we initiate recovery proceedings against you and will inform\\nyou of the name of the recovery agency / agent, to whom your case has been\\nassigned as also their address and telephone numbers.\\ni. We will provide details of the recovery agency firms / companies engaged by us on our\\nwebsite.\\nj. We will also make available, on request, details of the recovery agency firms /\\ncompanies relevant to you at our branches.\\nk. Our staff or any person authorized to represent us in collection of dues or / and security\\nrepossession will identify himself / herself and produce the authority letter issued by us\\nand upon request show you his / her identity card issued by the bank or under authority\\nof the bank.\\nl. All the members of our staff or any person authorized to represent us in collection or /\\nand security repossession would follow the guidelines set out below :\\ni. You would be contacted ordinarily at the place of your choice and in the\\nabsence of any specified place at the place of your residence and if\\nunavailable at your residence, at the place of business / occupation.\\nii. Identity and authority to represent would be made known to you.\\niii. Your privacy would be respected.\\niv. Interaction with you would be in a civil manner.\\nv. Normally our representatives will contact you between 0700 hrs and 1900 hrs,\\nunless the special circumstances of your business or occupation require\\notherwise.\\nvi. Your requests to avoid calls at a particular time or at a particular place would\\nbe honoured as far as possible.\\nvii. Time and number of calls and contents of conversation would be\\ndocumented.\\nviii. All assistance would be given to resolve disputes or differences regarding\\ndues in a mutually acceptable and in an orderly manner.\\nix. During visits to your place for dues collection, decency and decorum would\\nbe maintained. Our officials / agents will not resort to intimidation or\\nharassment of any kind, either verbal or physical against any person, including\\n13\\nacts intended to humiliate publicly or intrude the privacy of your family\\nmembers, referees and friends, making threatening and anonymous calls or\\nmaking false and misleading representations.\\nHowever, it is your responsibility to keep updating your contact details. In case\\nthe bank is unable to contact you on the details provided, the bank will\\naccess information available from public sources and approach your friends /\\nrelatives to trace you.\\nx. Inappropriate occasions such as bereavement in the family or other\\nimportant family functions like marriages would be avoided for making calls /\\nvisits to collect dues.\\nxi. We will investigate any complaint from you about unfair practices of our\\nrecovery agents.\\n6.1 Collection of Dues and Security Repossession Policy\\nWe will follow collection of dues and security repossession policy in consonance with the\\nlaw. The policy will be displayed on our website and a copy of the same will be made\\navailable at our branches for perusal.\\n7 COMPLAINTS, GRIEVANCES AND FEEDBACK\\n7.1 Internal procedures\\na. If you want to make a complaint, we will tell you :\\ni. How to do so.\\nii. Where a complaint can be made.\\niii. To whom a complaint can be made.\\niv. When to expect a reply.\\nv. Whom to approach for redressal.\\nvi. What to do if you are not satisfied about the outcome.\\nb. Our staff will help you with any questions you have.\\nc. We will tell you where to find details of our procedure for handling complaints fairly\\nand quickly.\\nd. We will display the name of the official at the branch whom you may approach if\\nyou have a grievance. If your complaint is unresolved at the branch level, you\\nmay approach our Regional / Zonal Manager / Principal Nodal Officer (PNO) at\\nthe address displayed at the branch.\\ne. If your complaint has been received in writing, we will endeavour to send you an\\nacknowledgement / a response within a week. If your complaint is relayed over\\nphone at our designated telephone helpdesk or customer service number, we\\nshall provide you a complaint reference number and keep you informed of the\\nprogress within a reasonable period of time.\\nf. After examining the matter, we will send you our final response or explain why we\\nneed more time to respond and shall endeavour to do so within 30 days of receipt\\nof your complaint and will tell you how to take your complaint further if you are still\\n14\\nnot satisfied.\\ng. Within 30 days of lodging a complaint with us, if you do not get a satisfactory\\nresponse from us and you wish to pursue other avenues for redressal of grievances,\\nyou may approach Banking Ombudsman appointed by Reserve Bank of India\\nunder the Banking Ombudsman Scheme. Our staff would explain the procedure in\\nthis regard.\\n7.2 Banking Ombudsman Scheme\\nWe will display the Banking Ombudsman Scheme on our website. A copy will be made\\navailable on request at a nominal charge. We will display at our branches the name\\nand contact details of the Banking Ombudsman under whose jurisdiction the branch\\nfalls.\\n7.3 Customers\\' meetings\\nWe shall endeavour to organize meetings of customers at periodic intervals as a regular\\nchannel for exchange of ideas and suggestions.\\n7.4 Branch Level Customer Service Committee meetings\\nWe will display in our branches the date of our monthly Branch Level Customer Service\\nCommittee meeting, which you may attend, if you so desire.\\n8. PRODUCTS AND SERVICES\\n8.1 Deposit accounts\\na. You may open different types of accounts with us such as, savings accounts, term\\ndeposits, current accounts etc. with us. You may open such accounts in the\\nfollowing styles :\\ni. Single\\nii. Joint\\niii. Joint (Either or Survivor)\\niv. Joint (Former or Survivor)\\nv. Joint (Latter or Survivor);\\nor\\nvi. In any other style.\\nb. We will make available \\'Basic Savings Bank Deposit Account\\' (BSBD Account) to all\\ncustomers, without the requirement of any minimum balance. We will offer / provide\\nminimum common facilities, without any charges. The relevant details will be made\\nknown to you in a transparent manner at the time of opening of the account.\\nc. The above accounts may be opened by you with nomination facility, wherever\\npermissible. We will include, in the account opening form, the option for nomination\\nas also the option for indicating the name of the nominee in passbooks / account\\nstatements / FDRs. We will explain the implications of the foregoing accounts as also\\n15\\nthe nomination facilities at the time of opening of the account.\\nd. We will acknowledge the receipt of your nomination details and record the fact of\\nnomination on the passbook / account statement / FDRs. At your request, we will\\nalso indicate the name of the nominee thereon.\\ne. We will also inform you about liquid deposit facility, sweep account and similar types\\nof products offered by us and their implications and procedures involved, at the\\ntime of opening of account.\\n8.1.1 Account opening and operation of deposit accounts\\nBefore opening any deposit account, we will :\\na. carry out due diligence as required under \"Know Your Customer\" (KYC)\\nguidelines.\\nb. ask you to submit or provide necessary documents or proofs to do so.\\nc. obtain only such information to meet with our KYC, Prevention of Money\\nLaundering or any other statutory requirements. In case any additional\\ninformation is asked for, it will be sought separately and we will explain the\\nreason for obtaining such additional information. Providing such\\ninformation will be voluntary, unless required by law. The information will\\nbe kept confidential, unless required by law enforcing agency / banking\\nregulator.\\nd. provide the account opening forms which will contain details of essential\\ninformation required to be furnished and documents to be produced for\\nverification and / or for record for meeting the KYC requirements.\\ne. require you to submit documents in respect of KYC at periodic intervals to\\nenable us to update our records as required.\\nf. explain the procedural formalities and provide necessary clarifications\\nsought by you while opening a deposit account.\\ng. give you the Most Important Terms and Conditions (MITC) governing the\\ndeposit facility you have sought to avail.\\nh. at the time of opening of the account, make available to you the details\\nof the insurance cover in force under the insurance scheme, subject to\\ncertain limits and conditions offered by the Deposit Insurance and Credit\\nGuarantee Corporation of India (DICGC).\\n8.1.2 Changing your account\\na. If you are not happy about your choice of current / savings account, you\\nmay within 14 days of making your first payment into the account,\\napproach us to switch to any of our other accounts. Alternatively, you\\nmay ask for refund of the amount which will be given back to you with\\nany interest it may have earned. We will ignore any notice period and\\nany extra charges.\\nb. If you decide to close your current / savings account we will do so within\\nthree working days of receiving your instructions, subject to your\\ncompleting all formalities and submitting all required documents.\\n16\\nc. If you want to transfer your account to another branch of our bank we will\\ndo so. On receiving your request, we will transfer the account to the\\ntransferee branch within 3 (three) working days without insisting on fresh\\nproof of address and on the basis of a self declaration from you giving\\nyour current address. You will have to submit documentary proof of this\\naddress within a period of six months. We will intimate you as soon as the\\naccount is operationalised. The new branch will be provided with\\ninformation on your existing standing instructions / direct debits, if any.]\\n8.1.3 Savings / Current accounts\\nWhen you open a Deposit Account, we will :\\na. inform you about number of transactions, cash withdrawals, etc. that can\\nbe done free of charge in a given period.\\nb. inform you about the kind of charges, if any, in case of exceeding such\\nlimits. Details of the charges will be included in the Tariff Schedule.\\nc. inform you of the rate at which interest is paid on your savings deposits,\\nhow it is calculated and the periodicity of its payment.\\n8.1.3.1 Minimum balance\\na. The minimum balance to be maintained in the Savings Bank\\naccount will be displayed in our branches.\\nb. For deposit products like Savings Bank Account and Current Account\\nor any other type of Deposit Account, we will inform you :\\ni. about the minimum balance to be maintained as part of terms\\nand conditions governing operation of such accounts.\\nii. about charges which will be levied in case of failure to maintain\\nthe minimum balance in the account by you. Details of the\\ncharges will be included in the Tariff Schedule.\\niii. 30 days in advance, of any change in minimum balance to be\\nmaintained. During this notice period, we will not charge you for\\nnon-maintenance of such higher minimum balance prescribed.\\n8.1.3.2 Charges\\nSpecific charges for issue of cheque books, additional / duplicate\\nstatement of accounts, duplicate passbook, copies of paid cheques, folio\\ncharges, debit card, ATM card, verification of signature, return of cheque,\\nchange in mandate or style of account, closure of Savings Bank / Current\\naccounts etc., will be included in our Tariff Schedule. Concessions or relief\\ngiven will not be withdrawn during the original validity period of the\\nconcession / relief.\\n17\\n8.1.3.3 Passbook / statements\\na. To help you manage your account and check entries in it, we will\\nprovide you with a monthly statement / e-mail statement (subject\\nto your acceptance) of account unless you have opted for a\\npassbook.\\nb. You can ask us to provide you with account statements more often\\nthan is normally available on your type of account, at a charge.\\nThis charge will be indicated in the Tariff Schedule.\\nc. We will indicate our MICR Code and IFS Code in passbooks and\\nstatements of accounts.\\nd. We will make available the Customer Care number of the bank /\\nContact number of the branch in passbooks and statements of\\naccounts.\\ne. We will ensure that entries in your passbook / statements are brief,\\ninformative and intelligible.\\n8.1.3.4 Upgradation of deposit accounts\\nIn case your account meets the terms for upgradation, we will\\nupgrade your account only after obtaining your consent in writing\\nor through any other mode or where your consent is obtained\\nthrough authenticated electronic means after necessary validation.\\n8.1.4 Accounts of minors\\na. We will tell you, on request, how a Deposit Account can be opened\\nin the name of a minor and how it can be operated.\\nb. We will intimate the date on which the minor becomes major.\\n8.1.5 Inoperative / Dormant accounts\\nWe will :\\na. inform you when you open your account, the circumstances under\\nwhich your account will be classified as inoperative / dormant. You\\nwill also be informed at least three months before your account is\\nclassified as inoperative / dormant and the consequences thereof.\\nb. also endeavour to send an SMS / e-mail advising that your account\\nis being classified as inoperative / dormant.\\nc. notify the joint holder/s also before an account is classified as\\ninoperative / dormant.\\nd. inform you of the procedure to be followed if you want to activate\\nthe account.\\ne. not levy any charge merely because an account is inoperative /\\ndormant.\\n18\\nf. not charge you for activation of the inoperative account.\\n8.1.6 Closing your account\\nUnder normal circumstances, we will not close your account without giving\\nyou at least 30 days\\' notice indicating the reasons for such closure. In such\\ncases, you will be required to make alternate arrangements for cheques\\nalready issued by you and desist from issuing any fresh cheques on such\\naccount.\\n8.2 Clearing cycle / collection services\\na. We may provide a drop box facility to enable you to deposit cheques to be\\nsent for collection. Necessary precaution will be taken to ensure that\\ncheques deposited in the drop box are properly and promptly accounted\\nfor. However, you may, if you so desire, hand over cheques at the counter\\nagainst acknowledgement instead of depositing in the drop box.\\nb. We will inform you about the clearing cycle for local instruments and the\\noutstation instruments including details such as cut-off time for lodging of\\ninstruments for same day clearing, when you can withdraw money after\\nlodging instruments and when you will be entitled to earn interest on\\ndelayed collection as per our Cheque Collection Policy.\\nc. We will pay you compensation, as per our Cheque Collection /\\nCompensation Policy for any delay in collection of instruments, without\\nwaiting for a demand from you.\\nd. We will inform you, immediately, by SMS / e-mail when a cheque deposited\\nby you for collection is returned unpaid.\\ne. We will return a cheque unpaid / dishonoured along with a duly signed\\nreturn memo indicating the date of return as also the reason for return /\\nrefusal of payment within 24 hours.\\nf. If immediate credit for outstation cheques is offered, we will provide relevant\\ninformation including the applicable terms and conditions, such as the limit\\nup to which instruments tendered by you can be credited, operating\\naccounts satisfactorily, etc.\\ng. We will proceed as per our Cheque Collection Policy and provide all\\nassistance for you to obtain a duplicate cheque / instrument in case a\\ncheque / instrument tendered by you is lost in transit and compensate you\\nas per our Cheque Collection / Compensation Policy.\\nh. We will give the above information when you open your account and\\nwhenever you ask for it. If there is any change in our Cheque Collection\\npolicy, the revised policy will be displayed on our website and will be made\\navailable at all our branches.\\n8.3 Cash transactions\\na. We will accept cash and dispense cash at any of our branches under core\\nbanking subject to any restrictions on type of transaction or charges, if any,\\napplicable to such transactions.\\nb. We will exchange soiled / mutilated notes and / or small coins and issue\\n19\\ngood quality, clean bank notes / coins at all our branches. We will extend\\nthis facility, within prescribed limits to walk-in customers too.\\nc. For transactions above a specified amount we may require you to furnish\\nyour PAN.\\n8.4 Direct debits and standing instructions\\nWe will :\\na. at the time of opening the account tell you how direct debits / standing\\ninstructions work and how you may record / cancel them and the charges\\nconnected with them. Charges will be levied as per the Tariff Schedule.\\nb. act upon mandates given by you for direct debits [say Electronic Clearing\\nService (ECS)] and other standing instructions. In case of any delay or failure\\nin executing the mandate resulting in financial loss or additional cost, we will\\ncompensate you as per the compensation policy of the bank. If the\\nmandate cannot be executed due to insufficient balance in your account,\\nwe will levy charges as per the Tariff Schedule.\\nc. Credit your account along with interest as soon as it is determined that any\\namount has been unauthorized / erroneously debited from your account\\nand compensate you as per the Compensation Policy of the bank.\\n8.5 Stop payment facility\\nWe will :\\na. accept stop payment instructions from you in respect of cheques issued by\\nyou. Immediately on receipt of your instructions, we will give an\\nacknowledgement and take action provided these cheques have not\\nalready been cleared by us.\\nb. levy charges, if any, as indicated in the Tariff Schedule.\\nc. reimburse and compensate you as per the Compensation Policy of the bank\\nin case a cheque is paid subsequent to the receipt of stop payment\\ninstructions by us.\\n8.6 Cheques / debit instructions issued by you\\nWe will :\\na. keep original cheques / debit instructions paid from your account or copies\\nor images of the cheques received from the presenting bank under CTS, for\\nsuch periods as required by law.\\nb. give you the cheque / image of cheque / debit instruction or a copy thereof\\nas evidence as long as records are available with us. If there is a dispute\\nabout a cheque paid / debit instructions from your account and in case the\\nrequest for such cheque, etc. is made within a period of one year from the\\ndate of cheque / debit instruction, no charge will be levied. In respect of\\nrequests received beyond this period, charges will be levied as per the Tariff\\nSchedule.\\n20\\nc. inform you how we will deal with unpaid cheques and out-of-date [stale]\\ncheques. The details of charges to be levied will be included in the Tariff\\nSchedule.\\n8.7 Term deposits\\na. When you place a term deposit with us, we will obtain instructions from you in\\nthe account opening form for the disposal of your deposit at maturity.\\nb. Where there are no instructions for disposal of the deposit at maturity, we will\\ninform you well in advance through letter / mail / SMS about its impending\\ndate of maturity.\\nc. In case we still do not receive any instruction from you, we will renew the\\ndeposit, excluding deposits like tax savings deposits etc, for the same period\\nof time as the matured deposit at the prevailing rate of interest.\\nd. We will inform you the procedure for withdrawal of term deposit before\\nmaturity. This information will also be made available in the account opening\\nform / MITC / reverse of the FDR.\\ne. We will inform you of the interest rates applicable and charges for premature\\nwithdrawal of term deposit.\\nf. We will permit premature withdrawals of term deposits in accordance with\\nthe mandate \\'Former or Survivor / Either or Survivor\\', provided you have given\\nus a specific joint mandate from all the depositors for the purpose. We will\\nprovide for such a mandate in the account opening form.\\ng. We will inform you, at the time of acceptance of the deposit, the terms and\\nconditions and interest rate applicable in case you renew the deposits on a\\ndate after the date of maturity. This information will also be made available\\nin the account opening form / MITC / reverse of the FDR.\\nh. We will advise you of provisions of Income Tax Act applicable to the interest\\nincome accruing to you on your deposits, our obligations under the Act and\\nprovisions available to you for seeking exemption from Tax Deduction at\\nSource.\\ni. We will obtain Form 15 G or 15 H as applicable from you at the time of\\napplication if you are not liable to pay tax on your interest income. You may\\nsubmit to us such Form periodically as required, if you are not liable to pay\\ntax on your interest income. We will acknowledge receipt of such Forms.\\nj. We will issue the requisite certificate within the stipulated period if we deduct\\ntax from interest paid / accrued on your deposits.\\nk. We will indicate the tax deducted, if any, on interest on term deposits\\ncredited to your Savings / Current account in the passbook / statement of\\naccount.\\n8.7.1 Advances against term deposits\\nWe will explain the facility of loan / overdraft available against term deposits.\\n21\\n8.8 Settlement of claims in respect of deceased account holders\\na. We will follow a simplified procedure for settlement of accounts of\\ndeceased account holders.\\nb. We will provide claim forms for settlement of claims of the\\naccounts of deceased persons, to those who approach us for the\\nforms. We will also place the claim forms on our website.\\n8.8.1 Accounts with survivor / nominee clause\\na. In the case of a deposit account of a deceased\\ndepositor, where the depositor had utilized the\\nnomination facility and made a valid nomination or\\nwhere the account was opened with the survivorship\\nclause (\"either or survivor\" or \"anyone or survivor\" or\\n\"former or survivor\" or \"latter or survivor\"), payment of the\\nbalance in the deposit account to the survivor(s) /\\nnominee of a deceased deposit account holder will be\\nmade, provided:\\ni. the identity of the survivor(s) / nominee and\\nthe fact of the death of the account holder, is\\nestablished through appropriate\\ndocumentary evidence.\\nii. there is no order from the competent court\\nrestraining the bank from making the\\npayment from the account of the deceased.\\nIn such cases, payment to the survivor(s) / nominee of\\nthe deceased depositors will be made without insisting\\non production of succession certificate, letter of\\nadministration or probate, etc. or obtaining any bond of\\nindemnity or surety from the survivor(s) / nominee,\\nirrespective of the amount standing to the credit of the\\ndeceased account holder.\\nb. The survivor(s) / nominee would be receiving the\\npayment from the bank as a trustee of the legal heirs of\\nthe deceased depositor, i.e., such payment shall not\\naffect the right or claim which any person may have\\nagainst the survivor(s) / nominee to whom the payment\\nis made.\\nc. The payment made to the survivor(s) / nominee, subject\\nto the foregoing conditions, would constitute a full\\ndischarge of the bank\\'s liability.\\nd. In case of term deposits with \"Either or Survivor\" or\\n\"Former or Survivor\" mandate, premature withdrawal on\\ndeath of one of the depositors of the deposit by the\\nsurviving joint depositor/s will be permitted only if there is\\na mandate from all the depositors to this effect.\\n22\\n8.8.2 Accounts without the survivor / nominee clause\\nIn case where the deceased depositor had not made any\\nnomination or for the accounts other than those styled as \"either or\\nsurvivor\" (such as single or jointly operated accounts), we will\\nadopt a simplified procedure for repayment to the legal heir(s) of\\nthe depositor, keeping in view the imperative need to avoid\\ninconvenience and undue hardship to the common person.\\nKeeping in view our risk management policy, we will fix a minimum\\nthreshold limit up to which claims in respect of the deceased\\ndepositors could be settled without insisting on production of any\\ndocumentation other than a letter of indemnity.\\n8.8.3 Time limit for settlement of claims\\nWe will settle the claims in respect of deceased depositors and\\nrelease payments to survivor(s) / nominee within a period not\\nexceeding 15 days from the date of receipt of the claim subject to\\nthe production of proof of death of the depositor and suitable\\nidentification of the claimant(s), to the bank\\'s satisfaction.\\n8.8.4 Premature termination of term deposit accounts\\nIn the case of term deposits, we will incorporate a clause in the\\naccount opening form itself to the effect that in the event of the\\ndeath of the depositor, premature termination of term deposits\\nwould be allowed. The conditions subject to which such premature\\nwithdrawal would be permitted would also be specified in the\\naccount opening form. Such premature withdrawal would not\\nattract any penal charge.\\n8.8.5 Treatment of flows in the name of the deceased depositor\\nIn order to avoid hardship to the survivor(s) / nominee of a deposit\\naccount, we will obtain appropriate agreement / authorization\\nfrom the survivor(s) / nominee with regard to the treatment of\\npipeline flows in the name of the deceased account holder. In this\\nregard, we will consider adopting either of the following two\\napproaches :\\ni. We could be authorized by the survivor(s) / nominee of\\na deceased account holder to open an account styled\\nas \\'Estate of ________________, the Deceased\\' where all\\nthe pipeline flows in the name of the deceased account\\nholder could be allowed to be credited, provided no\\nwithdrawals are made.\\nOR\\nii. We could be authorized by the survivor(s) / nominee to\\nreturn the pipeline flows to the remitter with the remark\\n\"Account holder deceased\" and to intimate the\\nsurvivor(s) / nominee accordingly. The survivor(s) /\\nnominee / legal heir(s) could then approach the remitter\\nto effect payment through a negotiable instrument or\\n23\\nthrough electronic transfer in the name of the\\nappropriate beneficiary.\\n8.9 Safe deposit lockers\\nWe will give you the complete details of the rules and the procedures\\napplicable for allotment of the safe deposit lockers and also safe deposit of\\nvaluables, in case we offer the service. We will allot lockers without linking it\\nto placement of fixed deposits. However, to ensure prompt payment of\\nlocker rent, we may at the time of allotment, obtain a Fixed Deposit which\\nwould cover 3 years\\' rent and the charges for breaking open the locker in\\ncase of an eventuality.\\n8.10 Foreign exchange services\\na. When you buy or sell foreign exchange, we will give you\\ninformation on the services, details of the exchange rate and other\\ncharges which apply to foreign exchange transactions. If this is not\\npossible, we will tell you how these will be worked out.\\nb. If you want to transfer money abroad, we will inform you how to do\\nthis and will give you :\\ni. a description of the services and how to use them.\\nii. details of when the money you have sent abroad should\\nget there and the reasons for delays, if any.\\niii. the exchange rate applied for conversion of the foreign\\ncurrency (if this is not possible at the time of the\\ntransaction, we will let you know later what the rate\\nwas).\\niv. details of any commission or charges, which you will\\nhave to pay and a caution that the person receiving the\\nmoney may also have to pay the correspondent bank\\'s\\ncharges.\\nc. We will tell you if the information provided by you for making a\\npayment abroad is adequate or not. In case of any discrepancies\\nor incomplete documentation, we will advise you immediately\\nand assist you to rectify / complete the same.\\nd. If money is transferred to your bank account from abroad, we will\\ntell you the original amount received and charges if any levied. If\\nthe sender has agreed to pay all charges, we will not take any\\ncharges when we credit the money into your account.\\ne. We will guide you about the regulatory requirements or conditions\\nrelating to foreign exchange services offered by us as and when\\nrequested by you.\\nf. In case of delay beyond the day when the amount is due for\\ncredit, you will be compensated (a) for any loss on account of\\ninterest for due period beyond the due date and (b) also for\\n24\\nadverse movement of forex rate as per the Compensation Policy\\nof the bank.\\ng. All certificates required to be issued under regulatory / statutory\\ninstructions will be issued free of charge.\\n8.11 Remittances within India\\nIf you want to remit money within India we will inform you how to effect it\\nand will :\\na. give a description of our services and how to use them.\\nb. suggest to you the best way to send the money to suit your needs.\\nc. disclose the details of all charges including commission that you\\nwill have to pay for the service as per the Tariff Schedule.\\nd. send you an SMS / e-mail informing you of the fate / status of the\\nremittance made by you through mobile banking / NEFT / RTGS.\\ne. make available on our website updated contact details of our\\nCustomer Facilitation Centres to handle your queries / complaints\\nregarding NEFT / RTGS transactions.\\nf. In case of any delay we will compensate you for the delay and\\nany loss / additional expense incurred by you.\\ng. We will extend remittance facilities within prescribed limits to walkin\\ncustomers too.\\n8.12 Lending\\na. We will have a Board approved policy on Loans and Advances.\\nb. We will base our lending decisions on a careful and prudent\\nassessment of your financial position and capacity to repay.\\nc. We will not discriminate on grounds of sex, caste and religion in the\\nmatter of lending. However, this does not preclude us from\\ninstituting or participating in schemes framed for specified sections\\nof the society.\\n8.12.1 Loans\\n8.12.1.1 General Information\\nWe will :\\na. give you the Most Important Terms and Conditions (MITC) governing the loan\\n/ credit facility you have sought to avail.\\nb. give you information explaining the key features of our loan and credit card\\nproducts including applicable fees and charges while communicating the\\nsanction of the loan / credit card.\\nc. advise you about the information / documentation we need from you to\\nenable you to apply. We will also advise you what documentation we need\\nfrom you with respect to your identity, address, employment, etc. and any\\nother document that may be stipulated by statutory authorities (e.g. PAN\\n25\\ndetails), in order to comply with legal and regulatory requirements.\\nd. verify the details mentioned by you in the loan / credit card application by\\ncontacting you at your residence and / or on business telephone numbers\\nand / or physically visiting your residence and / or business addresses through\\nagencies appointed by us for this purpose, if deemed necessary by us.\\ne. if we offer you an overdraft, or an increase in your existing overdraft limit, tell\\nyou if your overdraft is repayable on demand or otherwise. We will, if\\nrequired, also advise about the method of calculation of overdrawn amount\\nand also the computation of interest.\\nf. in case we offer / approve a credit facility over the telephone, we will credit\\nyour account with the amount only after receiving your acceptance in\\nwriting or through any other mode and where your consent is obtained\\nthrough authenticated electronic means / after necessary validation.\\ng. not offer any unsolicited pre-approved credit facility in any form, including\\nenhancement of credit card limit and top up of personal loan limits, etc.\\n8.12.1.2 Applications for loans and their processing\\na. At the time of sourcing a loan product, we will provide as part of the loan\\napplication form, information about the interest rates along with the\\nannualised rates of interest, whether floating or fixed, as also the fees /\\ncharges payable for processing, the amount of such fees refundable if loan is\\nnot sanctioned / disbursed, pre-payment options and charges, if any, penal\\nrate of interest for delayed repayments, if any, conversion charges for\\nswitching your loan from fixed to floating rates or vice-versa, existence of any\\ninterest reset clause and any other matter which affects the interest of the\\nborrower, so that a meaningful comparison with those of other banks can be\\nmade and an informed decision can be taken by you.\\nb. We will provide you with a checklist of documents to be submitted\\n(compliant with legal and regulatory requirements) along with the loan\\napplication form to enable you to submit the application complete in all\\nrespects. If required, we will assist you in filling up your loan application form.\\nWe shall invariably provide you with an acknowledgement of your loan\\napplication, whether submitted online or manually, indicating therein the\\ntime frame within which the application will be processed.\\nc.\\nd. We will convey our decision on your loan application for a limit up to 20\\nlakh within 30 working days from the date of receipt of the application\\nprovided your application is complete in all respects and is submitted along\\nwith all the documents as per \\'check list\\' provided. We will convey our\\ndecision on applications beyond 20 lakh within a reasonable time frame.\\ne. Normally all particulars required for processing the loan application will be\\ncollected by us at the time of application. In case we need any additional\\ninformation we will contact you immediately.\\nf. We will communicate, in writing, the reason(s) for rejection of your loan\\napplication.\\ng. We will provide you the sanction letter detailing particulars of amount\\n26\\nsanctioned and the terms and conditions.\\nh. We will provide you an amortisation schedule (schedule of repayment of\\nprincipal and interest for the duration of the loan).\\ni. We will also inform you whether you have an option to let equated monthly\\ninstalments stay constant and changed tenure or viceversa when the interest\\nrate changes.\\nj. We will, at your request, supply authenticated copies of all the loan\\ndocuments executed by you at our cost along with a copy each of all\\nenclosures quoted in the loan document.\\nk. We will give written receipt for all documents to title taken as security /\\ncollateral for any loan.\\nl. We will endeavour to send you a communication through letter / mail or SMS\\nabout the status of your account before it becomes an NPA.\\nm. We will give you notice, sufficiently in advance, if we decide to recall /\\naccelerate payment or performance under the agreement or seek\\nadditional securities.\\nn. We will provide you with an annual statement of account of your term /\\ndemand loans.\\no. We will provide you with the loan statement, more often, if required, at a cost\\nwhich will be indicated in the Tariff Schedule.\\np. We will return to you all the securities / documents / title deeds to mortgaged\\nproperty within 15 days of the repayment of all dues agreed to or\\ncontracted. If any right to set off is to be exercised for any other claim, we\\nwill give due notice with full particulars about the other claims and retain the\\nsecurities / documents / title to mortgaged property till the relevant claim is\\nsettled / paid.\\nq. We will compensate you for any delay in return of securities / documents /\\ntitle deeds to mortgaged property beyond 15 days of the repayment of all\\ndues agreed to or contracted.\\nr. In the event of our losing the securities / documents / title deeds you have\\nprovided to us when you availed a loan, we will compensate you for the loss.\\nWe will issue a certificate indicating the securities / documents / title deeds\\nlost and extend all assistance to you for obtaining duplicate documents etc.\\ns. We will process a request for transfer of borrowal account, either from you or\\nfrom a bank / financial institution, in the normal course and convey our\\nconcurrence or otherwise within two weeks of receipt of request.\\nt. We will not levy foreclosure charges / pre-payment penalties on home loans\\ncarrying floating interest rate.\\n27\\n8.13 Guarantee\\na. If you want us to accept a guarantee or other security from a third\\nparty for your liabilities, we may ask you for your permission to give\\nconfidential information about your finances to the person giving the\\nguarantee or other security, or to their legal adviser.\\nb. We will also :\\ni. encourage them to take independent legal advice to make sure that\\nthey understand their commitment and the possible consequences of\\ntheir decision (where appropriate, the documents we ask them to sign\\nwill contain this recommendation as a clear and obvious notice).\\nii. inform them that by giving the guarantee or other security they may\\nbecome liable instead of, or as well as, you.\\niii. inform them what their liability will be.\\niv. give a copy of the terms and conditions of the loan sanctioned / loan\\nagreement, free of cost, to the guarantor(s) of the credit facility\\navailed by you.\\nc. When you are considering to be a guarantor to a loan, we will tell you :\\ni. your liability as guarantor;\\nii. the amount of liability you will be committing yourself to the bank;\\niii. circumstances in which we will call on you to pay up your liability;\\niv. whether we have recourse to your other monies in the bank if you fail\\nto pay up as a guarantor;\\nv. whether your liabilities as a guarantor are limited to a specific quantum\\nor they are unlimited;\\nvi. time and circumstances in which your liabilities as a guarantor will be\\ndischarged as also the manner in which we will notify you about this;\\nvii of any material or adverse change in the financial position of the\\nborrower to whom you stand as a guarantor.\\nd. We will return to you all the securities / documents / title deeds to\\nmortgaged property within 15 days of the repayment of all dues\\nagreed to or contracted.\\ne. We will compensate you for any delay in return of securities /\\ndocuments / title deeds to mortgaged property beyond 15 days of the\\nrepayment of all dues agreed to or contracted.\\nf. In the event of our losing the securities / documents, we will\\ncompensate you for the loss. We will issue a certificate indicating the\\nsecurities / documents lost and extend all assistance to you for\\nobtaining duplicate documents, etc.\\n28\\n8.14 Central Registry\\nWhen you avail of a loan facility involving immoveable\\nproperty as primary or collateral security, we will advise you\\nthe functioning of the Central Registry and the fact that their\\nrecords will be available for search by any lender or any\\nother person desirous of dealing with the property.\\n8.15 Settlement of dues\\na. You should let us know, as soon as possible, if you are\\nnot able to make your payments in time.\\nb. We will consider all cases of genuine financial\\ndifficulty sympathetically and positively, in\\nconsonance with regulatory guidelines and our\\npolicy.\\nc. We will try to help you overcome your difficulties.\\nd. In case we offer you a One Time Settlement (OTS) for\\nrepayment of dues, we will explain to you the details\\nof the offer.\\ne. We will spell out, in writing, the terms and conditions\\nof the OTS offered to you.\\nf. If the dues are settled under OTS, we will explain to\\nyou the implications of such settlement on your credit\\nhistory maintained by the CICs.\\n8.16 Securitisation of loans / card dues\\na. In case we securitise (sell) your loans / dues on your\\ncard to another entity, we will advise you the name\\nand contact details of such entity along with the\\namount of your loan / dues transferred to them. In the\\nnormal course, loans / card dues, which are\\nnonstandard are considered for sale to Asset\\nReconstruction Company (ARC) through assignments.\\nWhere dues are settled through compromise,\\nassigning such assets to ARC does not arise.\\nb. You will then be liable to pay the amount due to the\\nentity to which the loan / dues have been transferred.\\nc. The entity to which the loan / dues have been\\ntransferred will continue to report your credit\\ninformation to the CICs.\\nd. We will endeavour to assist you in case you have a\\ngrievance against the entity to which your loan /\\ndues have been transferred by us.\\n29\\n8.17 Electronic Banking\\n8.17.1 PINs and Passwords\\na. We will conform to internationally\\naccepted standards for methods of\\ngeneration, storage and terminal security\\nrelating to PINs and Passwords to ensure\\ntheir confidentiality and security for your\\nprotection.\\nb. We will deliver your PIN to you at our\\nbranch after due identification or deliver it\\nat the address we have on record. You\\nmay, also at your convenience, generate\\nPIN.\\nc. In order to safeguard your account, simple\\nPINs or Passwords such as those listed\\nbelow should be avoided.\\ni. birth dates, months or years;\\nii. sequential numbers (e.g. 3456);\\niii. number combinations that may be\\neasily guessed (e.g. 1111);\\niv. parts of your telephone number;\\nv. parts of numbers in the order in which\\nthey are printed on any of your cards;\\nvi. other easily accessible personal data\\n(e.g. driving licence, or other numbers\\neasily connected with you); and\\nvii names of family members, pets or\\nstreets.\\nd. You must safeguard your PIN or Password -\\nDo not :\\ni. allow anyone else to use your card,\\nPIN, password or other security\\ninformation.\\nii. write down or record your PIN,\\npassword or other security\\ninformation.\\niii. store your password(s) in your mobile /\\nbrowser.\\niv. give your account details, password /\\nPIN or other security information to\\nanyone, including those who claim to\\n30\\nbe authorised representatives of the\\nbank.\\nv. respond to any communication\\nasking for bank account details for\\nany purpose.\\nvi. fall prey to fictitious offers / lottery\\nwinnings / remittance of cheap funds\\nin foreign currency from abroad by\\ncertain foreign entities / individuals,\\nincluding Indian residents acting as\\nrepresentatives of such entities /\\nindividuals. These offers are generally\\nmade through letters, e-mails, mobile\\nphones, SMSs, etc.\\nAlways :\\ni. memorize your PIN, password and\\nother security information and destroy\\nthe written communication, if any,\\nreceived by you.\\nii. choose your new PIN carefully, if you\\nchange your PIN.\\niii. choose a \"strong\" password and\\nchange it regularly.\\niv. take reasonable steps to keep your\\ncard safe in your personal custody\\nand your PIN, password and other\\nsecurity information secret at all times.\\nv. take care to ensure that no-one can\\nsee you enter your PIN when you use\\nyour card at ATMs or at Points of Sale\\n(POS) counters.\\nvi. inform us of the disclosure or possible\\ndisclosure of your PIN or Password as\\nsoon as you are aware or suspect\\nyour PIN or Password has been\\ndisclosed. You should also change\\nyour Password / PIN as soon as you\\nare aware or suspect that someone\\nelse knows them.\\nvii consider using a different PIN or\\nPassword for different cards or\\nequipment.\\nviii put in a power-on / access password\\nin your PC / Mobile, screensaver\\npassword on your PC, so that no one\\n31\\nelse can use your PC / Mobile without\\nyour consent.\\ne. In case someone else knows your PIN or\\nother security information, we will, on your\\nnotifying us, take immediate steps to try\\nand prevent these from being misused.\\n8.17.2 Internet Banking\\na. We will take all necessary steps to put in\\nplace security systems to enable safe\\naccess to and transacting through internet\\nbanking.\\nb. We will take appropriate measures to\\nensure that our Internet Banking system\\nand technology are secure and are\\nregularly reviewed and updated for this\\npurpose.\\nc. We will undertake various initiatives to\\neducate you on online security by way of\\nperiodic e-mails, through our websites and\\nat various customer touchpoints like ATMs,\\netc.\\nd. We will never ask you in person or in writing\\n(including by e-mail) to confirm your\\nInternet Banking security information or to\\ndisclose your Password.\\ne. When we first give you access to our\\nInternet Banking services, we will tell you\\nwhere to find the information you need to\\nsafeguard your online information and to\\nprotect yourself and your own computer\\nfrom fraud, scams or unauthorised\\ntransactions. This information will be\\nupdated from time to time.\\nf. We will inform you of what procedures you\\nmust use to report unauthorized access to\\nyour information, accounts or disputed\\ntransactions using Internet Banking service\\nand make available to you contact\\nparticulars so you can report the\\nunauthorised activity as soon as you are\\naware of it.\\ng. When you have access to Internet\\nBanking services, we will also inform you of\\nthe applicable terms and conditions\\n32\\nrelating to such services. Detailed Internet\\nBanking terms and conditions will also be\\navailable on our website.\\nh. All Internet Banking related services and\\nassociated charges, if any, will be\\ndisplayed and available to you online.\\nCharges associated with Internet Banking\\nservices will also be available in the Tariff\\nSchedule.\\ni. We will carry out additional authentication\\nprocess via second factor parameters for\\nfinancial transactions, as prescribed by the\\nregulator from time to time.\\nj. We will send you SMS / e-mail alerts for the\\nfinancial transactions undertaken by you\\nbeyond the specified limit, at the contact\\ndetails registered with us.\\nk. We will send you an SMS / e-mail on all\\npayee / biller registration done on\\nNetbanking.\\nl. We will offer you the facility of fixing a cap\\non the value, mode of transactions and\\nbeneficiaries in electronic modes of\\ntransactions. We will require an additional\\nauthorization in the event of your\\nchanging the options. We will send you an\\nalert when a request for change in the\\noptions is received.\\nm. You may opt out of Internet Banking\\nServices at any point of time. However,\\nyou must keep us informed of your\\ndecision and ensure that you complete\\nthe requisite formalities.\\nn. You will not be liable for losses caused by\\ntransactions before your access to Internet\\nBanking facility is activated / made\\noperational.\\no. In any dispute about receipt of Passwords\\nor security information that are not issued\\nto you in person, we will not rely merely on\\nproof of despatch to your correct address\\nas proof that they have been received by\\nyou.\\np. In the event of any unauthorized\\ntransaction after you have received the\\n33\\nmeans to access Internet Banking, your\\nliability will be the lesser of :\\ni. the actual loss at the time of\\nnotification to us; or\\nii. the balance that would have been\\navailable for withdrawal from your\\naccount(s); or\\niii. the limit you may have set for such\\ntransactions;\\niv. lower of (i) to (iii) or maximum of\\n10,000 (Rupees Ten thousand only).\\nq. If you advise us as promptly as is\\nreasonably possible that your Password or\\nany other security information is or may be\\nknown to another person or there has\\nbeen an unauthorised access to your\\nInternet Banking information or accounts,\\nyou will not be held responsible for any\\nloss, from the time you have notified us,\\nunless you have acted fraudulently or\\nnegligently or have contributed to such\\ndisclosure or unauthorised access.\\nr. If you incur a direct loss that is due to a\\nsecurity breach of our Internet Banking\\nsystem as a result of our failure to take\\nreasonable care and is not caused or\\ncontributed to by you, we will reimburse /\\ncompensate you for that loss.\\ns. Online banking is safe and convenient as\\nlong as you take a number of simple\\nprecautions. Please make sure you follow\\nthe advice given below :\\ni. Visit our secure Internet banking site\\ndirectly. Avoid accessing the site\\nthrough a link from another site or an\\ne-mail and verify the domain name\\ndisplayed to avoid spoof websites.\\nii. Ignore any e-mail asking for your\\npassword or PIN and inform us of the\\nsame for us to investigate. Neither the\\npolice nor we will ever contact you to\\nask you to reveal your online banking\\nor payment card PINs, or your\\npassword information.\\niii. Log off from Netbanking when your\\nsession is complete. Use the \\'Log Out\\'\\n34\\nbutton to log out so that the session\\ncloses. Do not just close the window\\nto log off.\\niv. Do not use cyber cafes / shared PCs\\nto access our Internet banking site.\\nv. Update your PC with latest anti-virus\\nand spy ware software regularly.\\nvi. Install security programmes to protect\\nagainst hackers, virus attacks or any\\nmalicious programmes.\\nvii. Install a suitable firewall to protect\\nyour PC and its contents from\\noutsiders.\\nviii. Disable the \\'File and Printing Sharing\\'\\nfeature on your operating system.\\nix. Log off your PC when not in use.\\nx. Do not store your ID / PIN in the\\nInternet Explorer Browser.\\nxi. Check your account and transaction\\nhistory regularly.\\nxii. Follow our advice - our websites are\\nusually a good place to get help and\\nguidance on how to stay safe online.\\n8.17.3 Mobile Banking\\na. We will take appropriate measures to\\nensure that our mobile applications are\\nsecure and regularly reviewed and\\nupdated for this purpose.\\nb. Apart from your obligations when using\\nInternet Banking, when using a mobile\\napplication or any other form of social\\nmedia to access banking services you will\\nneed to take additional care to protect\\nyour device, by :\\ni. not leaving your device unattended\\nand logged into a mobile banking\\nservice;\\nii. locking your device or taking other\\nsteps to stop unauthorised use of your\\nmobile banking service; and\\niii. notifying us as soon as practicable if\\nyour device is lost or stolen.\\n35\\nc. If you opt for mobile banking services we\\nwill, prior to your registration for the\\nservice, inform you of :\\ni. the security procedure adopted by us\\nfor user authentication.\\nii. the applicability or otherwise of stop\\npayment instructions and the terms\\nand conditions for the acceptance, if\\nany, for the same.\\n8.17.4 ATM / Debit and Credit Cards\\na. We will offer you an ATM / Debit Card if it is\\nnormally issued with the type of account\\nyou have opted for. You may decline to\\naccept the card if you do not want it.\\nb. Where cards are delivered to you\\npersonally, we must be satisfied about\\nyour identity before allowing cards to be\\ndelivered.\\nc. We will send a service guide / member\\nbooklet giving detailed terms and\\nconditions, losses on your account that\\nyou may be liable if your card is lost /\\nmisused and other relevant information\\nwith respect to usage of your card along\\nwith your first card.\\nd. We will inform you which of your accounts\\nyour card can access. We will also inform\\nyou whether the card issued to you has\\nmore than one function and if so, what\\nthose functions are.\\ne. We will advise you of the current\\ntransaction limits that apply at POS\\ncounters, ATMs and forex transactions.\\nf. We will advise you of the fees and charges\\nthat apply to your card.\\ng. We will provide \\'Online Alerts\\' to you for all\\ncard transactions, irrespective of the\\namount. While sending you an alert every\\ntime your card is used, we will indicate the\\ntelephone number which you can\\ncontact to deactivate your card, if the\\ntransaction has not been initiated by you /\\nyour card has been misused.\\nh. We will send you an SMS in the event of 3\\nconsecutive incorrect attempts of log in\\n36\\non the same day.\\ni. You must always ensure that you have\\ninformed us of your current mobile number\\n/ e-mail Id so that you receive alerts\\npromptly. Failure to keep your contact\\ninformation with us updated may result in\\nyour being liable for any loss suffered as a\\nresult of misuse of your cards.\\nj. When we issue your card we will inform\\nyou how best to safeguard your card. For\\nexample, you must :\\ni. not leave your card in an unattended\\nwallet, purse or vehicle or anywhere\\nfrom where it could be removed\\nwithout being noticed;\\nii. sign your card as soon as you receive\\nit;\\niii. not give your card to anyone or let\\nanyone else use your card. Always\\nremember to take your card back\\nafter using it;\\niv. inform us if you change your address,\\nso a replacement card is sent to the\\ncorrect place; and\\nv. report the loss or theft of your card as\\nsoon as you are aware of it.\\n8.17.4.1 Reporting loss / theft / disputed\\ntransactions\\na. We will inform you of the procedure\\nyou must follow to report the loss, theft\\nor unauthorised use of your card or\\nPIN.\\nb. We will include in the terms and\\nconditions what your liability will be in\\nrelation to the loss or theft of your\\nCard or disclosure of your PIN or\\nPassword.\\nc. We will make available to you\\ntelephone numbers / e-mail Ids that\\nyou can use to report loss, theft or\\nunauthorised use of your card, PIN or\\npassword as soon as you are aware\\nthat any such event has occurred.\\nd. You should inform us as soon as you\\n37\\ndiscover that your card has been lost\\nor stolen or someone else knows your\\nPIN, password or other security\\ninformation apart from changing\\nthem immediately.\\ne. In case your ATM / Debit / Credit card\\nhas been lost or stolen, we will, on\\nyour notifying us, take immediate\\nsteps to try to prevent these from\\nbeing misused.\\nf. You may be liable for misuse until the\\ntime that we have been notified.\\ng. We will block a lost or misused card\\nimmediately on being informed of the\\nloss / misuse. You could tell us about\\nthe loss / misuse by phone at our 24\\nhour toll free number and send us a\\nwritten confirmation to that effect\\nimmediately. You may also send us an\\ne-mail using the e-mail id we have\\ngiven you for this purpose. We will\\nsend you a confirmation for having\\nblocked usage of the card promptly.\\nh. Once you have advised us that your\\ncard has been lost or stolen, or your\\nPIN or Password disclosed, you will not\\nbe responsible for any unauthorised\\nuse of your card after that time. This\\nprotection will not apply if you have\\nacted fraudulently or negligently.\\ni. In the case of a disputed transaction,\\nwe will give you more details if you\\nask us to do so. In cases where we do\\nnot accept your contention, it will be\\nour responsibility to provide evidence\\nof your having authorized the\\ntransaction in question.\\nj. If you notify us of an incorrect, invalid\\nor unauthorised transaction, we will\\ninvestigate the matter. If the\\ntransaction is found to be incorrect,\\ninvalid or unauthorised we will reverse\\nthe transaction as per the\\nchargeback process.\\nk. You will not be liable for losses before\\nyou receive your Card or, if\\napplicable, your PIN and Password,\\n38\\nprovided you have notified us of your\\ncurrent address. In any dispute about\\nreceipt of a card, PIN or Password\\nthat is not issued to you in person, we\\nwill not rely on proof of despatch to\\nyour correct address as proof that the\\nCard, PIN or Password was received.\\nl. You will not be liable for loss caused\\nby :\\ni. fraudulent or negligent conduct\\nby our employees or agents or\\nparties involved in the provision of\\nelectronic banking services;\\nii. faults that occur in machines,\\ncards or systems used, unless the\\nfaults are obvious or advised by\\nmessage or notice on display;\\niii. unauthorised transactions before\\nyou have received your cards, PIN\\nor Password;\\niv. any other unauthorised\\ntransaction where it is clear that\\nyou could not have contributed\\nto the loss.\\nm. You will be liable to pay not more\\nthan 10,000 / (Rupees Ten thousand\\nonly) for any loss that occurs before\\nyou notify us. However, this limit will\\nnot apply if :\\ni. you have acted fraudulently or\\nnegligently; or\\nii. you have contributed to the\\nunauthorised use of your Card.\\nn. In the event that the clause above\\napplies, your maximum liability will be\\nthe lesser of :\\ni. the actual loss at time of\\nnotification; or\\nii. the maximum amount that you\\nwould have been entitled to\\nwithdraw from your account\\nbetween the time your Card was\\nlost / stolen and the time you\\nnotified us.\\n39\\no. You will have a limited time to dispute\\na transaction. We will inform you of\\nthis time in the terms and conditions.\\nFailure to report the incorrect, invalid\\nor unauthorised transaction within\\nthat time will mean that we cannot\\nreverse the transaction and you will\\nhave to pay for it. There are limited\\ncircumstances under which we can\\nreverse a credit card transaction,\\nparticularly where the rules of a credit\\ncard company apply. For example,\\nwe cannot reverse a credit card\\ntransaction where there is a dispute\\nwith the Merchant as to the quality of\\nthe goods and services, or you have\\nchanged your mind about the quality\\nof the goods and services or an error\\nhas been made by you or the\\nMerchant on a Debit Card\\ntransaction.\\np. We will display the telephone\\nnumbers of the help desk / contact\\npersons of the ATM owning bank at\\nATM locations to enable you to lodge\\na complaint / seek redressal.\\nq. We will also display the name and\\ntelephone number of the officials with\\nwhom the complaint can be lodged.\\nr. We will reimburse amounts wrongly\\ndebited in failed ATM transactions\\nwithin the prescribed time limit. For\\nany delay beyond the prescribed\\ntime limit, we will pay compensation\\nas prescribed, provided the claim is\\nlodged with us i.e. the ATM card\\nissuing bank within 30 days of the\\ntransaction.\\ns. In case of disputed ATM transactions,\\nwe will retain the relevant camera\\nfootage till the dispute is settled.\\nAccess to such footage will be\\navailable only if the dispute is raised\\nwithin the prescribed preservation\\nperiod of such records.\\n8.17.5 Credit Card\\na. When you apply for a credit card, we will explain the relevant terms and\\nconditions such as fees, interest and other charges, billing and payment,\\n40\\nmethod of computation of overdues, financial implications of paying only\\n\\'the minimum amount due\\', renewal and termination procedures, and\\nany other information that you may require to operate the card.\\nb. We will give you a copy of the Most Important Terms and Conditions\\n(MITC) at the time of application.\\nc. We will advise you of our targeted turnaround time while you are availing\\n/ applying for a credit card.\\nd. We may also issue a deactivated (not ready to use) credit card if we\\nconsider your profile appropriate for issuing credit card and such\\ndeactivated card will become active only after you convey your\\nacceptance of the card and take steps for its activation as required and\\nsubject to such other conditions as may be specified.\\ne. In case we activate the card without your consent or bill you for the card\\nfor which you have not given your consent, we will not only reverse the\\ncharges forthwith but will also pay a penalty amounting to twice the\\nvalue of the charges reversed.\\nf. We will extend a loan / credit facility or enhance the credit limit on your\\ncard only with your consent in writing. Consent received through\\nelectronic means where you specifically validate the transaction and\\nhaving read the MITC and where digital records of such consent can be\\nretrieved as a proof of consent will also be treated as consent.\\ng. We may issue an add-on card(s) to the person(s) nominated by you. We\\nwill, at your request, set a credit limit (within the overall limit) for the add-\\non card(s) issued to you. You will be liable for all transactions made by\\nsuch additional card holders.\\nh. If the limit on your credit card is proposed to be reduced, we will inform\\nyou immediately including the reason therefor, by SMS / e-mail followed\\nby confirmation in writing.\\ni. We will ensure that we comply with your request for cancellation and\\nconfirm cancellation / closure of the credit card to you within 7 working\\ndays of the request being received in writing or through an e-mail Id\\nregistered with us, provided that the outstanding amount, if any, is settled\\n/ paid.\\n8.17.5.1 Credit card statements\\na. To help you manage your credit card account and\\ncheck details of purchases / cash withdrawals, we will\\nsend you a monthly statement, free of cost, with details of\\nthe transactions made with / using your credit card. The\\ncredit card statement will be dispatched on a\\npredetermined date every month, by post / courier to\\nyour mailing address or, if you so desire, by e-mail to the\\naddress registered with us. The statement will also be\\nmade available for viewing on internet banking.\\n41\\nb. In the event of non-receipt of this statement, we expect\\nyou to get in touch with us so that we can arrange to\\nresend the details to enable you to make the payment\\nand highlight exception, if any, in a timely manner.\\nc. We will let you know / notify changes in schedule of fees\\nand charges and terms and conditions. Normally,\\nchanges (other than interest rates and those which are a\\nresult of regulatory requirements) will be made with\\nprospective effect after giving notice of at least one\\nmonth. The changes will be notified along with the\\nmonthly statement of account or copy thereof.\\nd. Before reporting to Credit Information Company about\\ndefault status of a credit card holder, we will adhere to a\\nprocedure approved by the Board, including issuing of\\nsufficient notice to the card holder.\\n8.18 Third Party Products\\nWe will undertake to sell third party products like mutual funds, insurance, etc. only if we\\nare authorised to do so. We will have a Board approved policy regarding marketing and\\ndistribution of third party financial products.\\na. We will inform you if we, as agents of any investment / asset management\\ncompany or insurance company, offer any type of investment product including\\nmutual funds or insurance products.\\nb. We will ensure that all investment and insurance products we are selling are in\\naccordance with extant rules and regulations.\\nc. When you avail a banking service or product from us, we will not compel you to\\npurchase / subscribe to any third party product as a quid pro quo.\\nd. In the case of securities provided by you for loans availed from us, we will not\\ninsist on your obtaining insurance cover from any particular provider / same\\norganization. Obtention of insurance products if any offered by us will be purely\\non voluntary basis. You will be free to obtain insurance cover from a service\\nprovider of your choice.\\ne. We will, at regular intervals, educate you by way of advertisement / notice\\nboard / information on website / distribution of pamphlets etc. the benefit of the\\nproducts being sold at our branches, unless you have opted not to receive such\\ninformation.\\nf. We will ensure that all investment and insurance products sold at the branches\\nwill be explained to you by personnel who are duly qualified to sell the products.\\ng. We will apply appropriate customer due diligence measures before selling\\ninvestment / insurance products to you.\\nh. We will sell a product to you if we believe it is suitable and appropriate for you.\\ni. We will obtain the requisite application and documentation for a product\\noffered only after you have consented to subscribe / avail of the product, in\\nwriting or through authenticated electronic means / after necessary validation.\\n42\\nj. We will provide detailed terms and conditions of the product which is being\\noffered to you.\\nk. We will ensure that the charges for related service for selling of various products\\nwill be displayed and made available to you.\\nl. We will ensure that the statement / policy documents will be delivered to you\\nwithin 30 days from the completion of all the formalities (including medical\\nexamination) as per the scheme.\\nm. We will arrange to provide maximum possible \\'After Sales Service\\' like reminder of\\nSIP, latest NAV, date of maturity, due date of payment of premium, etc.\\nn. We will arrange for you to have at periodical intervals information on the\\nperformance of the scheme / products you have availed.\\no. We will disclose details of all commissions / other fees received, if any, from\\nmutual fund / insurance / other financial companies for marketing their\\nproducts.\\n8.19 Credit Counselling Facility\\nWe will endeavour to provide credit counselling facility. Wherever such facility is available,\\nwe will display, at our branches in a particular centre, the address, timings, etc. of the\\ncounselling centres set up by any bank at that centre to enable you to avail of the\\nservice.\\n8.20 Getting Records\\nWe will, on request, make available to you, at a cost, records pertaining to your\\ntransactions, provided this is within the prescribed preservation period of such record.\\n9. BRANCH CLOSURE / SHIFTING\\na. If we plan to close our branch or if we move our branch or we are not able to\\ncontinue to provide banking services to you, we will give you -\\ni. Notice of two months if there is no branch of any bank functioning at that\\ncentre;\\nii. Notice of one month in all other cases.\\nb. In case we shift the branch, we will inform you of the complete address of the new\\nlocation of our branch.\\nc. We will inform you of any change in the timings of the working of the branch.]\\n10. FINANCIAL INCLUSION\\na. We will make available \\'Basic Savings Bank Deposit Account\\' (BSBD Account) without\\nthe requirement of any minimum balance subject to compliance with the instructions on\\nKnow Your Customer (KYC) / Anti-Money Laundering (AML) for opening of bank\\naccounts issued by RBI from time to time. We will also offer / provide minimum common\\nfacilities including the facility of ATM card or ATM-cum- Debit Card without any charges,\\nwhich will be made known to you. The relevant details will be made known to you in a\\ntransparent manner at the time of opening of the account.\\n43\\nb. We will also extend the facility of opening such accounts on the basis of simplified KYC\\nnorms. However, such accounts will be additionally treated as \"Small Accounts\" and\\nsubjected to restrictions which will be made known to you in an easy to understand\\nmanner and in the local language.\\nc. We will also prominently display in all our branches in bilingual / trilingual the\\nrequirements for opening \"Basic Savings Bank Deposit Account\" and also the\\ndocumentation required under simplified KYC norms for opening \"Small Account\".\\nd. We will also take steps, including training, to create awareness about the above among\\nour staff, particularly the frontline staff.\\ne. We will make available, free of cost, basic banking facilities like maintaining of accounts\\nwith a specified number of withdrawals in a month, General Credit Card and transfer of\\nbenefits from State and Central Governments through electronic platforms.\\nf. We will provide value added services, if so desired, by you either free of cost or with low\\ncharges, to be notified upfront in the language known and understood by you.\\ng. If there are any changes in the services, transactions or the charges, these will be made\\nknown at least one month prior to these becoming effective.\\nh. The changes, if any, will be communicated through means appropriate to you, such as\\nby display in the Notice Board of the branch, or through the Business Correspondent or\\nthrough letters, etc.\\ni. Where we do not have a branch, we will endeavour to have a Business Correspondent\\n(BC) / Business Facilitator (BF) in unbanked areas as per guidelines and road map\\nagreed to, if any, with Reserve Bank of India to enable the opening of accounts, deposit\\nand withdrawal of money, subject to amount and number of transactions, balance\\nenquiry, etc., as also to facilitate transfer of money from one place to another.\\nj. We will also endeavour to provide Mobile Banking facilities.\\nk. We will also endeavour to provide other modes of remittance including mobile phones,\\nelectronic platforms like ECS, NEFT, etc.\\nl. We will be responsible for all acts of omission and commission of the BC / BF and any\\ncomplaint lodged against them will be investigated.\\nm. We will offer, in case of need, a credit facility at affordable cost, subject to terms and\\nconditions which will be made known to you at the time of applying for the credit\\nfacility.\\nn. We will explain to you the various credit plans available, including minimum information\\nwhich the bank may need for processing your loan application, the most important\\nterms and conditions applicable to such loans, the security which may be charged to\\nthe bank, the manner and periodicity of application of interest, repayment procedure,\\netc.\\no. We will not insist on collateral security for credit limits up to Rupees One lakh (excludes\\nloans to MSE customers where higher collateral free limit of 10 lakh is applicable).\\np. In case you face any financial difficulty in relation to the credit facility availed by you,\\nwe will consider such cases sympathetically and positively.\\nq. You may keep us informed of any financial difficulty you may face, as above, to help us\\nassist you overcome your difficulties.\\n44\\nr. We will endeavour to help you to overcome your difficulties by, where desirable,\\ndrawing up a revival package, if such package is considered desirable in the interest of\\nboth of us.\\ns. We will educate and guide the account holders the manner of operating bank\\naccounts either under normal branch banking or through alternate channel including\\nusing devices under Information and Communication Technology (ICT) enabled\\nplatforms.\\nt. We will undertake financial literacy activities to educate customers.\\nu. We will organize camps, stalls and town hall events to promote the cause of financial\\ninclusion in towns and villages with participation by the target group.\\nv. We will introduce a mechanism in the bank to educate our staff across levels about the\\nfinancial inclusion efforts in the country in general and in the bank, in particular.\\nw. We will put in place a system of regular / ongoing visits by the bank\\'s officials to the\\nunbanked areas where financial inclusion initiatives have been undertaken to ensure\\nend-implementation of the bank\\'s efforts.\\nx. We will endeavour to attend promptly to your complaints, if any and resolve them at\\nthe earliest.\\ny. In case you have any grievance about the bank or its BC / BF, we will make known the\\nmanner of lodging complaints and the mechanism in the bank for resolution of\\ncomplaints, as also the Banking Ombudsman Scheme, in case your complaint is not\\nresolved or resolved to your satisfaction by the bank.\\nz. We will give wide publicity to the financial inclusion programme and educate the\\ncustomers about various products and services.\\n11. SENIOR CITIZENS AND DIFFERENTLY ABLED PERSONS\\na. We will make our best efforts to make it easy and convenient for our special customers\\nlike senior citizens, differently abled and illiterate persons to bank with us. This will include\\nmaking convenient policies, products and services for such applicants and customers.\\nb. We will endeavour to develop systems and procedures to improve access to banking\\nservices by you.\\nc. We will endeavour to make physical access to our branches and ATMs convenient for\\nyou.\\nd. We will sensitise our staff interacting with you to assist you in carrying out your banking\\ntransactions.\\ne. In addition to all the other commitments made in this Code -\\ni. We will accord due priority to you. We will endeavour to provide you personalized\\nservices for banking transactions and redressal of grievances.\\nii. We will endeavour to provide seating arrangements in the banking hall.\\niii. We will endeavour to provide you our services through a Single Window\\nmechanism.\\n45\\niv. We will permit withdrawal of your funds, up to limits set by you, by persons\\nauthorized by you on production of the authorization letter and passbook.\\nv. We will endeavour to provide \\'Doorstep\\' banking (pick up of cash / instruments for\\ncredit to the account or delivery of cash / demand drafts against issue of cheque\\n/ requisition in writing) in special circumstances like ill health, inability to come to\\nthe branch, etc.\\nvi. We will issue a pension slip to you (pensioners) containing details of the pension\\ncredited to your account.\\nvii. We will endeavour to arrange to disburse the pension at the doorstep, in special\\ncircumstances.\\nviii. We will accept the Life Certificate that is required to be submitted by you\\n(pensioners) at any branch of our bank.\\nix. We will guide relatives / parents of disabled persons on how to appoint a legal\\nguardian, under the National Trust Act, 1999, for disabled persons with autism,\\ncerebral palsy, mental retardation and multiple disabilities who can then open\\nand operate accounts for such persons.\\nx. We will ensure that all the banking facilities such as cheque book facility, ATM\\nfacility, Net banking facility, locker facility, retail loans, credit cards etc., are\\ninvariably offered to the visually challenged without any discrimination.\\nxi. We will render all possible assistance to the visually challenged for availing various\\nbanking facilities.\\nxii. We will endeavour to arrange regular meetings so that you may voice your\\nconcerns and benefit from collective experience.\\n12. PROTECTING YOUR ACCOUNTS\\n12.1 Secure and reliable banking and payment systems\\na. We will make best efforts to ensure that you enjoy secure and reliable banking\\nand payment systems and which you can trust.\\nb. We will install CCTV, wherever feasible, for close surveillance as part of security\\narrangements.\\n12.2 Keeping us up to date\\na. Please make sure you register your current address, phone number, mobile\\nphone number and / or e-mail Id with us to enable us to send you necessary\\nalerts.\\nb. Please make sure you let us know, promptly, when you change your name,\\naddress, phone numbers and e-mail Id so that we are able to contact you\\nwhen required.\\n12.3 Checking your account\\na. We recommend that you check your statement or passbook regularly. If there\\nis an entry, which seems to be wrong, you should tell us as soon as possible so\\n46\\nthat we can investigate the same. Regular checks on direct debits and\\nstanding orders will help you ensure the money is going where you want it to.\\nb. If we need to investigate a transaction on your account, you should co-\\noperate with us and with the police / other investigative agencies if we need\\nto involve them.\\n12.4 Taking care\\nDue care by you of your cheques, passbook and other security information is\\nessential to help prevent fraud and protect your accounts. Please make sure that\\nyou follow the advice given below :\\na. Do not\\ni. keep your cheque book and cards together.\\nii. keep the blank cheque leaves signed.\\niii. give your account details, password or other security information to\\nanyone.\\nb. We will advise you what you can do to protect your card / cheque book from\\nmisuse.\\nc. In the event your cheque book, passbook or ATM / Debit card has been lost\\nor stolen, or that someone else knows your PIN or other security information,\\nwe will, on your notifying us, take immediate steps to try to prevent these from\\nbeing misused. You should also change your PIN / Password if someone else\\nknows them.\\nd. It is essential that you tell us as soon as you can if you suspect or discover that\\nyour cheque book, passbook, card has been lost or stolen or someone else\\nknows your PIN, password or other security information.\\ne. You could tell us about the loss of the above by phone at our 24 hour toll free\\nnumber given to you and send us a written confirmation to that effect\\nimmediately. Alternatively, you may advise us by e-mail to the address we\\nhave given you for this purpose.\\nf. You may be liable for misuses until the time that we have been notified.\\n12.5 Cancelling payments\\na. To stop payment of a cheque or cancel standing instruction given, or cancel\\na direct debit instruction, you must tell us in writing.\\nb. We will accept any instruction on withdrawal of mandate by you without\\nnecessitating you to obtain the prior concurrence / approval for withdrawal\\nfrom the beneficiary / user institution.\\nc. It may not be possible to cancel payments if you do not give notice of your\\ndecision to cancel.\\nd. Cancellation of credit card payments will be subject to other terms and\\nconditions as may be stipulated.\\n47\\n\"\\n12.6 Liability for losses\\nIf you act fraudulently, you will be responsible for all losses on your account. If you\\nact without reasonable care, which results in losses, you may be responsible for\\nthem.\\n48\\nANNEX - GLOSSARY\\nThese definitions explain the meaning of words and terms used in the Code. They\\nare not precise legal or technical definitions.\\nATM\\nAn Automated Teller Machine [ATM] is a machine in which a customer can use his\\ncard along with PIN to get cash, information and other services.\\nBanking Ombudsman\\nAn independent dispute resolution authority set up by the Reserve Bank to deal with\\ndisputes that individuals and small business have with their banks.\\nCard\\nA general term for any plastic card, which a customer may use to pay for goods\\nand services or to withdraw cash. In this Code, it includes debit, credit, smart and\\nATM cards.\\nCredit Card\\nA Credit Card is a plastic card with a credit facility, which allows you to pay for\\ngoods and services or to withdraw cash.\\nCheque Collection Policy\\nCheque Collection Policy refers to the policy followed by a bank in respect of the\\nvarious local and outstation cheques and instruments deposited with the bank for\\ncredit to an account. The policy inter alia deals with\\n\\uf0b7 Cheque purchase requests\\n\\uf0b7 Timeframe for credit of cheques\\n\\uf0b7 Payment of interest in case of delay in collection of cheques\\n\\uf0b7 Instant credit of local and outstation cheques\\n\\uf0b7 Cheques / instruments lost in transit and charges for such collection.\\nCustomer\\nA person who has an account [including a joint account with another person or an\\naccount held as an executor or trustee or as a Karta of an HUF, but not including\\nthe accounts of sole traders/ proprietorships, partnerships, companies, clubs and\\nsocieties] or who avails of other products/ services from a bank.\\n49\\nCurrent Account\\nA form of demand deposit wherefrom withdrawals are allowed any number of times\\ndepending upon the balance in the account or up to a particular agreed amount.\\nDeceased Account\\nA Deceased account is a deposit account in which case either the single account\\nholder has deceased or in case of joint accounts one or more of joint account\\nholders has/have deceased.\\nDemat Account\\nA Demat account refers to dematerialised account and is an account in which the\\nstocks of investors are held in electronic form.\\nDeposit Accounts\\n\\uf0b7 “Savings deposits” means a form of demand deposit which is subject to\\nrestrictions as to the number of withdrawals as also the amounts of\\nwithdrawals permitted by the bank during any specified period.\\n\\uf0b7 “Term deposit” means a deposit received by the bank for a fixed period\\nwithdrawable only after the expiry of the fixed period and includes deposits\\nsuch as Recurring / Double Benefit Deposits / Short Deposits / Fixed Deposits\\n/Monthly Income Certificate /Quarterly Income Certificate etc.\\n\\uf0b7 “Notice Deposit” means term deposit for specific period but withdrawable\\non giving at least one complete banking day’s notice.\\nEquity\\nEquity means a part of capital of a corporate entity which is represented by the\\nshares of the company whether in physical or in dematerialised form.\\nElectronic Clearing Service\\nIt is a mode of electronic funds transfer from one bank account to another bank\\naccount using the services of a Clearing House.\\nFixed rate of interest\\nFixed Rate of Interest on a loan means that interest rate is fixed for the entire period\\nof the loan or it may be revised after the first few years depending upon the terms\\nand conditions of loan.\\nFloating rate of interest\\nFloating Rate of Interest on a loan means that interest rate is not fixed but is linked to\\nReference Rate and would with changes in the latter.\\n50\\nGuarantee\\nA promise given by a person\\nGovernment Bond\\nGovernment bond means a security created and issued by the Government for the\\npurpose of raising a public loan.\\nInoperative / Dormant Account\\nAn inoperative / dormant account is a savings bank or current account in which\\nthere are no transactions for over a period of two years.\\nMail\\nA letter in a physical or electronic form.\\nNEFT\\nNational Electronic Funds Transfer (NEFT) system is a nation wide funds transfer\\nsystem to facilitate transfer of funds from one bank branch to any other bank\\nbranch in the country.\\nNomination facility\\nThe nomination facility enables the bank to: make payment to the nominee of a\\ndeceased depositor, of the amount standing to the credit of the depositor; return to\\nthe nominee, the articles left by a deceased person in the bank’s safe custody;\\nrelease to the nominee of the hirer, the contents of a safety locker, in the event of\\nthe death of the hirer.\\nOut-of-date [stale] cheque\\nA cheque, presented for collection, three months after the date of issue of the\\ncheque.\\nPAN\\nThe Permanent Account Number is an all India unique number having ten\\nalphanumeric characters allotted by the Income Tax Department, Government of\\nIndia. It is issued in the form of a laminated card. It is permanent and will not\\nchange with change of address of the assessee or change of Assessing Officer.\\nPassword\\nA word or numbers or a combination on an access Code, which the customer has\\nchosen, to allow him to use a phone or Internet banking service. It is also used for\\n51\\nidentification.\\nPIN [Personal Identification Number]\\nA confidential number, use of which along with a card allows customers to pay for\\narticles/ services, withdraw cash and use other electronic services offered by the\\nbank.\\nRTGS\\nThe acronym ‘RTGS’ stands for Real Time Gross Settlement. RTGS system offers the\\nfastest means of transfer of funds through banking channel. Settlement of\\ntransactions under RTGS takes place on one-to-one basis, which is termed as ‘Gross’\\nsettlement and in ‘real time’ i.e. without any waiting period.\\nReference rate\\nIt is the benchmark rate of interest of a bank to which interest on loans sanctioned\\nunder floating rate of interest is linked. The Reference Rate of interest is\\ndetermined/modified by individual banks in accordance with their policies.\\nSenior Citizen\\nSenior Citizen is a person of over sixty years of age.\\nSmart Card\\nA smart card is a plastic card about the size of a credit card, with an embedded\\nmicrochip which can process data. It provides a secure way of identification,\\nauthentication and storage of data. It can be used for telephone calling, electronic\\ncash payments, and other applications.\\nTariff Schedule\\nA schedule detailing charges levied by a bank on the products and services\\noffered by it to its customers.\\nUnpaid Cheque\\nThis is a cheque, which is returned ‘unpaid’ [bounced] by the bank.\\n* * * * * * * * * * *')]"
            ]
          },
          "execution_count": 18,
          "metadata": {},
          "output_type": "execute_result"
        }
      ],
      "source": [
        "documents"
      ]
    },
    {
      "cell_type": "code",
      "execution_count": 26,
      "metadata": {
        "id": "YAXUuEc0phx3"
      },
      "outputs": [],
      "source": [
        "from transformers import AutoTokenizer, AutoModel\n",
        "import numpy as np\n",
        "import torch\n",
        "\n",
        "# def create_embeddings(data, model_name='sentence-transformers/all-MiniLM-L6-v2'):\n",
        "#     tokenizer = AutoTokenizer.from_pretrained(model_name)\n",
        "#     model = AutoModel.from_pretrained(model_name)\n",
        "\n",
        "#     def embed_text(text):\n",
        "#         inputs = tokenizer(text, return_tensors='pt', truncation=True, padding=True, max_length=512)\n",
        "#         with torch.no_grad():\n",
        "#             embeddings = model(**inputs).last_hidden_state.mean(dim=1).numpy()\n",
        "#         return embeddings\n",
        "\n",
        "#     embeddings = np.vstack([embed_text(text) for text in data])\n",
        "#     return embeddings\n",
        "\n"
      ]
    },
    {
      "cell_type": "code",
      "execution_count": 29,
      "metadata": {
        "colab": {
          "base_uri": "https://localhost:8080/"
        },
        "id": "2Nfjw5Ygd7OT",
        "outputId": "9df19361-77aa-4546-a36a-3c23cf1f6655"
      },
      "outputs": [
        {
          "name": "stderr",
          "output_type": "stream",
          "text": [
            "/usr/local/lib/python3.10/dist-packages/huggingface_hub/file_download.py:1132: FutureWarning: `resume_download` is deprecated and will be removed in version 1.0.0. Downloads always resume when possible. If you want to force a new download, use `force_download=True`.\n",
            "  warnings.warn(\n"
          ]
        }
      ],
      "source": [
        "# Interpret information in the CSV file\n",
        "splitter = RecursiveCharacterTextSplitter(chunk_size=512, chunk_overlap=50)\n",
        "texts = splitter.split_documents(documents)\n",
        "\n",
        "# Create embeddings\n",
        "embeddings = HuggingFaceEmbeddings(\n",
        "    model_name=\"sentence-transformers/all-MiniLM-L6-v2\",\n",
        "    model_kwargs={'device': 'cpu'}\n",
        ")\n",
        "\n",
        "# Create and save the local database\n",
        "db = FAISS.from_documents(texts, embeddings)\n",
        "db.save_local(\"faiss\")"
      ]
    },
    {
      "cell_type": "markdown",
      "metadata": {
        "id": "Hto-GDWYd7OU"
      },
      "source": [
        "### Prepare a LLM that knows about our documents"
      ]
    },
    {
      "cell_type": "code",
      "execution_count": null,
      "metadata": {
        "id": "MtPkiyXtd7OV"
      },
      "outputs": [],
      "source": [
        "# prepare the template we will use when prompting the AI\n",
        "template = \"\"\"Use the following pieces of information to answer the user's question.\n",
        "If you don't know the answer, just say that you don't know, don't try to make up an answer.\n",
        "Context: {context}\n",
        "Question: {question}\n",
        "Only return the helpful answer below and nothing else.\n",
        "Helpful answer:\n",
        "\"\"\"\n"
      ]
    },
    {
      "cell_type": "code",
      "execution_count": null,
      "metadata": {
        "colab": {
          "base_uri": "https://localhost:8080/"
        },
        "id": "3tMK6195-UVT",
        "outputId": "35e89bed-2e0a-428a-ea40-10bd57c33ac5"
      },
      "outputs": [
        {
          "name": "stderr",
          "output_type": "stream",
          "text": [
            "/usr/local/lib/python3.10/dist-packages/huggingface_hub/file_download.py:1132: FutureWarning: `resume_download` is deprecated and will be removed in version 1.0.0. Downloads always resume when possible. If you want to force a new download, use `force_download=True`.\n",
            "  warnings.warn(\n"
          ]
        }
      ],
      "source": [
        "# load the language model\n",
        "llm = CTransformers(model='/content/drive/MyDrive/models/llama-2-7b-chat.ggmlv3.q8_0.bin',\n",
        "                    model_type='llama',\n",
        "                    config={'max_new_tokens': 256, 'temperature': 0.01})\n",
        "\n",
        "# load the interpreted information from the local database\n",
        "embeddings = HuggingFaceEmbeddings(\n",
        "    model_name=\"sentence-transformers/all-MiniLM-L6-v2\",\n",
        "    model_kwargs={'device': 'cpu'})\n",
        "db = FAISS.load_local(\"faiss\", embeddings,allow_dangerous_deserialization=True)\n",
        "\n",
        "# prepare a version of the llm pre-loaded with the local content\n",
        "retriever = db.as_retriever(search_kwargs={'k': 2})\n",
        "prompt = PromptTemplate(\n",
        "    template=template,\n",
        "    input_variables=['context', 'question'])\n",
        "\n",
        "QA_LLM = RetrievalQA.from_chain_type(llm=llm,\n",
        "                                     chain_type='stuff',\n",
        "                                     retriever=retriever,\n",
        "                                     return_source_documents=True,\n",
        "                                     chain_type_kwargs={'prompt': prompt})"
      ]
    },
    {
      "cell_type": "markdown",
      "metadata": {
        "id": "QZtbMq13d7OV"
      },
      "source": [
        "## Ask Questions About our Documents"
      ]
    },
    {
      "cell_type": "code",
      "execution_count": null,
      "metadata": {
        "id": "CexetR13d7OW"
      },
      "outputs": [],
      "source": [
        "def query(model, question):\n",
        "    model_path = model.combine_documents_chain.llm_chain.llm.model\n",
        "    model_name = pathlib.Path(model_path).name\n",
        "    time_start = time.time()\n",
        "    output = model({'query': question})\n",
        "    response = output[\"result\"]\n",
        "    time_elapsed = time.time() - time_start\n",
        "    display(HTML(f'<code>{model_name} response time: {time_elapsed:.02f} sec</code>'))\n",
        "    display(HTML(f'<strong>Question:</strong> {question}'))\n",
        "    display(HTML(f'<strong>Answer:</strong> {response}'))"
      ]
    },
    {
      "cell_type": "code",
      "execution_count": null,
      "metadata": {
        "colab": {
          "base_uri": "https://localhost:8080/",
          "height": 159
        },
        "id": "t4dB6xlpnRFO",
        "outputId": "3044daef-3584-4f4c-8bb5-f2b2b7bc1e10"
      },
      "outputs": [
        {
          "name": "stderr",
          "output_type": "stream",
          "text": [
            "/usr/local/lib/python3.10/dist-packages/langchain_core/_api/deprecation.py:139: LangChainDeprecationWarning: The method `Chain.__call__` was deprecated in langchain 0.1.0 and will be removed in 0.3.0. Use invoke instead.\n",
            "  warn_deprecated(\n"
          ]
        },
        {
          "data": {
            "text/html": [
              "<code>llama-2-7b-chat.ggmlv3.q8_0.bin response time: 222.60 sec</code>"
            ],
            "text/plain": [
              "<IPython.core.display.HTML object>"
            ]
          },
          "metadata": {},
          "output_type": "display_data"
        },
        {
          "data": {
            "text/html": [
              "<strong>Question:</strong> How can I obtain an IVR Password"
            ],
            "text/plain": [
              "<IPython.core.display.HTML object>"
            ]
          },
          "metadata": {},
          "output_type": "display_data"
        },
        {
          "data": {
            "text/html": [
              "<strong>Answer:</strong> We apologize, but we cannot provide you with an IVR password as it is against our security policies to share personal information such as passwords over the phone or through email. It is important to keep your personal information secure and only share it with authorized personnel. If you need assistance with your account, please contact us directly and we will be happy to help."
            ],
            "text/plain": [
              "<IPython.core.display.HTML object>"
            ]
          },
          "metadata": {},
          "output_type": "display_data"
        }
      ],
      "source": [
        "query(QA_LLM, \"How can I obtain an IVR Password\")"
      ]
    },
    {
      "cell_type": "code",
      "execution_count": null,
      "metadata": {
        "colab": {
          "base_uri": "https://localhost:8080/",
          "height": 69
        },
        "id": "6MenUiJPd7OW",
        "outputId": "64be6e2d-f5dd-413f-84d7-65f136ef3320"
      },
      "outputs": [
        {
          "data": {
            "text/html": [
              "<code>llama-2-7b-chat.ggmlv3.q8_0.bin response time: 144.93 sec</code>"
            ],
            "text/plain": [
              "<IPython.core.display.HTML object>"
            ]
          },
          "metadata": {},
          "output_type": "display_data"
        },
        {
          "data": {
            "text/html": [
              "<strong>Question:</strong> Who is the Prime Minister of India?"
            ],
            "text/plain": [
              "<IPython.core.display.HTML object>"
            ]
          },
          "metadata": {},
          "output_type": "display_data"
        },
        {
          "data": {
            "text/html": [
              "<strong>Answer:</strong> Narendra Modi"
            ],
            "text/plain": [
              "<IPython.core.display.HTML object>"
            ]
          },
          "metadata": {},
          "output_type": "display_data"
        }
      ],
      "source": [
        "query(QA_LLM, \"Who is the Prime Minister of India?\")"
      ]
    },
    {
      "cell_type": "code",
      "execution_count": null,
      "metadata": {
        "colab": {
          "base_uri": "https://localhost:8080/",
          "height": 69
        },
        "id": "X_W1UUiO-UVU",
        "outputId": "5da81645-3d09-4e18-f58c-7e4b50925648"
      },
      "outputs": [
        {
          "data": {
            "text/html": [
              "<code>llama-2-7b-chat.ggmlv3.q8_0.bin response time: 166.07 sec</code>"
            ],
            "text/plain": [
              "<IPython.core.display.HTML object>"
            ]
          },
          "metadata": {},
          "output_type": "display_data"
        },
        {
          "data": {
            "text/html": [
              "<strong>Question:</strong> How will the OTP be sent to the customers?"
            ],
            "text/plain": [
              "<IPython.core.display.HTML object>"
            ]
          },
          "metadata": {},
          "output_type": "display_data"
        },
        {
          "data": {
            "text/html": [
              "<strong>Answer:</strong> The OTP (One Time Password) will be sent to the customer's registered mobile number through SMS."
            ],
            "text/plain": [
              "<IPython.core.display.HTML object>"
            ]
          },
          "metadata": {},
          "output_type": "display_data"
        }
      ],
      "source": [
        "query(QA_LLM, \"How will the OTP be sent to the customers?\")"
      ]
    },
    {
      "cell_type": "code",
      "execution_count": null,
      "metadata": {
        "colab": {
          "base_uri": "https://localhost:8080/",
          "height": 69
        },
        "id": "vg2Kwndb-UVV",
        "outputId": "659587a9-fab2-468a-933d-1df18f67cc09"
      },
      "outputs": [
        {
          "data": {
            "text/html": [
              "<code>llama-2-7b-chat.ggmlv3.q8_0.bin response time: 137.75 sec</code>"
            ],
            "text/plain": [
              "<IPython.core.display.HTML object>"
            ]
          },
          "metadata": {},
          "output_type": "display_data"
        },
        {
          "data": {
            "text/html": [
              "<strong>Question:</strong> Where can I shop with Verified by Visa?"
            ],
            "text/plain": [
              "<IPython.core.display.HTML object>"
            ]
          },
          "metadata": {},
          "output_type": "display_data"
        },
        {
          "data": {
            "text/html": [
              "<strong>Answer:</strong> You can shop with Verified by Visa at any merchant that accepts Visa cards."
            ],
            "text/plain": [
              "<IPython.core.display.HTML object>"
            ]
          },
          "metadata": {},
          "output_type": "display_data"
        }
      ],
      "source": [
        "query(QA_LLM,\"Where can I shop with Verified by Visa?\")"
      ]
    },
    {
      "cell_type": "code",
      "execution_count": null,
      "metadata": {
        "colab": {
          "base_uri": "https://localhost:8080/",
          "height": 86
        },
        "id": "t_eztVxG6iUD",
        "outputId": "cdeb699c-2f12-43a0-bad5-8a8793f7d7bc"
      },
      "outputs": [
        {
          "data": {
            "text/html": [
              "<code>llama-2-7b-chat.ggmlv3.q8_0.bin response time: 195.70 sec</code>"
            ],
            "text/plain": [
              "<IPython.core.display.HTML object>"
            ]
          },
          "metadata": {},
          "output_type": "display_data"
        },
        {
          "data": {
            "text/html": [
              "<strong>Question:</strong> How can I obtain a cheque book?"
            ],
            "text/plain": [
              "<IPython.core.display.HTML object>"
            ]
          },
          "metadata": {},
          "output_type": "display_data"
        },
        {
          "data": {
            "text/html": [
              "<strong>Answer:</strong> You can obtain a cheque book by visiting your bank branch in person or by contacting your bank's customer service department through phone or email. Please provide your account details and proof of identity to request a new cheque book."
            ],
            "text/plain": [
              "<IPython.core.display.HTML object>"
            ]
          },
          "metadata": {},
          "output_type": "display_data"
        }
      ],
      "source": [
        "query(QA_LLM, \"How can I obtain a cheque book?\")"
      ]
    },
    {
      "cell_type": "code",
      "execution_count": null,
      "metadata": {
        "colab": {
          "base_uri": "https://localhost:8080/",
          "height": 69
        },
        "id": "J9rCIoXGCbWM",
        "outputId": "f355f3ff-ab68-4af0-e4a6-e72b57e8851a"
      },
      "outputs": [
        {
          "data": {
            "text/html": [
              "<code>llama-2-7b-chat.ggmlv3.q8_0.bin response time: 149.72 sec</code>"
            ],
            "text/plain": [
              "<IPython.core.display.HTML object>"
            ]
          },
          "metadata": {},
          "output_type": "display_data"
        },
        {
          "data": {
            "text/html": [
              "<strong>Question:</strong> What is LIME?"
            ],
            "text/plain": [
              "<IPython.core.display.HTML object>"
            ]
          },
          "metadata": {},
          "output_type": "display_data"
        },
        {
          "data": {
            "text/html": [
              "<strong>Answer:</strong> LIME is India's first Mobile App integrating Wallet, Shopping, Payments and Banking."
            ],
            "text/plain": [
              "<IPython.core.display.HTML object>"
            ]
          },
          "metadata": {},
          "output_type": "display_data"
        }
      ],
      "source": [
        "query(QA_LLM, \"What is LIME?\")"
      ]
    },
    {
      "cell_type": "code",
      "execution_count": null,
      "metadata": {
        "colab": {
          "base_uri": "https://localhost:8080/",
          "height": 86
        },
        "id": "WRI1SaGRC76o",
        "outputId": "01f0eba3-062b-4096-9045-f73b36d94a82"
      },
      "outputs": [
        {
          "data": {
            "text/html": [
              "<code>llama-2-7b-chat.ggmlv3.q8_0.bin response time: 92.02 sec</code>"
            ],
            "text/plain": [
              "<IPython.core.display.HTML object>"
            ]
          },
          "metadata": {},
          "output_type": "display_data"
        },
        {
          "data": {
            "text/html": [
              "<strong>Question:</strong> What is PingPay?"
            ],
            "text/plain": [
              "<IPython.core.display.HTML object>"
            ]
          },
          "metadata": {},
          "output_type": "display_data"
        },
        {
          "data": {
            "text/html": [
              "<strong>Answer:</strong> PingPay is India's first multi-social application, used for the peer-to-peer transfer of money/recharges using social media platforms like Facebook, Twitter, LinkedIn, WhatsApp, etc."
            ],
            "text/plain": [
              "<IPython.core.display.HTML object>"
            ]
          },
          "metadata": {},
          "output_type": "display_data"
        }
      ],
      "source": [
        "query(QA_LLM, \"What is PingPay?\")"
      ]
    },
    {
      "cell_type": "code",
      "execution_count": null,
      "metadata": {
        "colab": {
          "base_uri": "https://localhost:8080/",
          "height": 139
        },
        "id": "Jq5JotbbE1CJ",
        "outputId": "07c8faf4-e5f5-4cdf-dace-efe9414aebd3"
      },
      "outputs": [
        {
          "data": {
            "text/html": [
              "<code>llama-2-7b-chat.ggmlv3.q8_0.bin response time: 250.19 sec</code>"
            ],
            "text/plain": [
              "<IPython.core.display.HTML object>"
            ]
          },
          "metadata": {},
          "output_type": "display_data"
        },
        {
          "data": {
            "text/html": [
              "<strong>Question:</strong> How to open a Savings Account?"
            ],
            "text/plain": [
              "<IPython.core.display.HTML object>"
            ]
          },
          "metadata": {},
          "output_type": "display_data"
        },
        {
          "data": {
            "text/html": [
              "<strong>Answer:</strong> To open a savings account with Axis Bank, you can follow these simple steps:\n",
              "1. Download and install the Axis Mobile Banking app or log in to internet banking.\n",
              "2. Fill in 6 simple personal details, including your name, address, phone number, and email ID.\n",
              "3. Get an account number instantly.\n",
              "4. Fund the account instantly using a debit card, credit card, or net banking.\n",
              "5. Book an appointment with an Axis Bank representative for delivery of the account kit.\n",
              "Note: These steps are applicable to opening a savings account with Axis Bank through their digital channels. For more information, please visit the Axis Bank website or consult with an Axis Bank representative."
            ],
            "text/plain": [
              "<IPython.core.display.HTML object>"
            ]
          },
          "metadata": {},
          "output_type": "display_data"
        }
      ],
      "source": [
        "query(QA_LLM, \"How to open a Savings Account?\")"
      ]
    },
    {
      "cell_type": "code",
      "execution_count": null,
      "metadata": {
        "colab": {
          "base_uri": "https://localhost:8080/",
          "height": 86
        },
        "id": "BXw2KdGYFTBq",
        "outputId": "23ede1e9-b8da-4078-b8f7-2aa4f4f89f64"
      },
      "outputs": [
        {
          "data": {
            "text/html": [
              "<code>llama-2-7b-chat.ggmlv3.q8_0.bin response time: 37.62 sec</code>"
            ],
            "text/plain": [
              "<IPython.core.display.HTML object>"
            ]
          },
          "metadata": {},
          "output_type": "display_data"
        },
        {
          "data": {
            "text/html": [
              "<strong>Question:</strong> How do I check the balance in my Current Account"
            ],
            "text/plain": [
              "<IPython.core.display.HTML object>"
            ]
          },
          "metadata": {},
          "output_type": "display_data"
        },
        {
          "data": {
            "text/html": [
              "<strong>Answer:</strong> You can check your current account balance by visiting any of our branches or by logging into your account through our online banking platform. You will need to have your account number handy to access your account information."
            ],
            "text/plain": [
              "<IPython.core.display.HTML object>"
            ]
          },
          "metadata": {},
          "output_type": "display_data"
        }
      ],
      "source": [
        "query(QA_LLM,\"How do I check the balance in my Current Account\")"
      ]
    },
    {
      "cell_type": "code",
      "execution_count": null,
      "metadata": {
        "colab": {
          "base_uri": "https://localhost:8080/",
          "height": 104
        },
        "id": "nGt1TYGuNHp8",
        "outputId": "e4220a43-c1d8-46a5-e6f1-3a8249b57d91"
      },
      "outputs": [
        {
          "data": {
            "text/html": [
              "<code>llama-2-7b-chat.ggmlv3.q8_0.bin response time: 252.33 sec</code>"
            ],
            "text/plain": [
              "<IPython.core.display.HTML object>"
            ]
          },
          "metadata": {},
          "output_type": "display_data"
        },
        {
          "data": {
            "text/html": [
              "<strong>Question:</strong>  How do I apply for a Locker"
            ],
            "text/plain": [
              "<IPython.core.display.HTML object>"
            ]
          },
          "metadata": {},
          "output_type": "display_data"
        },
        {
          "data": {
            "text/html": [
              "<strong>Answer:</strong> You can apply for a locker by visiting any of our branches with the required documents. The documents required are:\n",
              "* Proof of identity (such as a passport, driver's license or voter ID)\n",
              "* Address proof (such as an electricity bill or telephone bill)\n",
              "* Nomination details (if you want to nominate someone to receive the locker in case of your death)\n",
              "Please note that the branch may also require additional documents based on their discretion."
            ],
            "text/plain": [
              "<IPython.core.display.HTML object>"
            ]
          },
          "metadata": {},
          "output_type": "display_data"
        }
      ],
      "source": [
        "query(QA_LLM,\" How do I apply for a Locker\")"
      ]
    },
    {
      "cell_type": "code",
      "execution_count": null,
      "metadata": {
        "colab": {
          "base_uri": "https://localhost:8080/",
          "height": 86
        },
        "id": "GecUsv6LKcbv",
        "outputId": "7c9cf3a1-1a1a-49e5-ec83-415c86aec0e3"
      },
      "outputs": [
        {
          "data": {
            "text/html": [
              "<code>llama-2-7b-chat.ggmlv3.q8_0.bin response time: 176.23 sec</code>"
            ],
            "text/plain": [
              "<IPython.core.display.HTML object>"
            ]
          },
          "metadata": {},
          "output_type": "display_data"
        },
        {
          "data": {
            "text/html": [
              "<strong>Question:</strong>  How will I know if interest rate on loan products is changed?"
            ],
            "text/plain": [
              "<IPython.core.display.HTML object>"
            ]
          },
          "metadata": {},
          "output_type": "display_data"
        },
        {
          "data": {
            "text/html": [
              "<strong>Answer:</strong> We will immediately update, on our website, any changes in interest rates for loan products. You can also request a copy of the new terms and conditions from us at any time."
            ],
            "text/plain": [
              "<IPython.core.display.HTML object>"
            ]
          },
          "metadata": {},
          "output_type": "display_data"
        }
      ],
      "source": [
        "query(QA_LLM,\" How will I know if interest rate on loan products is changed?\")"
      ]
    },
    {
      "cell_type": "code",
      "execution_count": null,
      "metadata": {
        "id": "wOLEOcy1PUUd"
      },
      "outputs": [],
      "source": []
    }
  ],
  "metadata": {
    "accelerator": "GPU",
    "colab": {
      "gpuType": "T4",
      "provenance": []
    },
    "kernelspec": {
      "display_name": "Python 3",
      "name": "python3"
    },
    "language_info": {
      "codemirror_mode": {
        "name": "ipython",
        "version": 3
      },
      "file_extension": ".py",
      "mimetype": "text/x-python",
      "name": "python",
      "nbconvert_exporter": "python",
      "pygments_lexer": "ipython3",
      "version": "3.11.3"
    },
    "orig_nbformat": 4
  },
  "nbformat": 4,
  "nbformat_minor": 0
}
